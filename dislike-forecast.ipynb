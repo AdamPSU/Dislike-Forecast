{
 "cells": [
  {
   "cell_type": "code",
   "execution_count": 1,
   "id": "acb113da",
   "metadata": {
    "_cell_guid": "b1076dfc-b9ad-4769-8c92-a6c4dae69d19",
    "_uuid": "8f2839f25d086af736a60e9eeb907d3b93b6e0e5",
    "execution": {
     "iopub.execute_input": "2024-07-16T06:26:17.022983Z",
     "iopub.status.busy": "2024-07-16T06:26:17.022667Z",
     "iopub.status.idle": "2024-07-16T06:26:17.816408Z",
     "shell.execute_reply": "2024-07-16T06:26:17.814955Z"
    },
    "papermill": {
     "duration": 0.808148,
     "end_time": "2024-07-16T06:26:17.819194",
     "exception": false,
     "start_time": "2024-07-16T06:26:17.011046",
     "status": "completed"
    },
    "tags": []
   },
   "outputs": [
    {
     "name": "stdout",
     "output_type": "stream",
     "text": [
      "/kaggle/input/youtube-dislikes-info/train.csv\n",
      "/kaggle/input/youtube-dislikes-info/test.csv\n"
     ]
    }
   ],
   "source": [
    "import numpy as np \n",
    "import pandas as pd \n",
    "import os\n",
    "for dirname, _, filenames in os.walk('/kaggle/input'):\n",
    "    for filename in filenames:\n",
    "        print(os.path.join(dirname, filename))\n",
    "        \n",
    "import warnings\n",
    "warnings.filterwarnings('ignore')"
   ]
  },
  {
   "cell_type": "code",
   "execution_count": 2,
   "id": "d30d23b7",
   "metadata": {
    "_kg_hide-input": true,
    "execution": {
     "iopub.execute_input": "2024-07-16T06:26:17.840071Z",
     "iopub.status.busy": "2024-07-16T06:26:17.839507Z",
     "iopub.status.idle": "2024-07-16T06:26:27.299300Z",
     "shell.execute_reply": "2024-07-16T06:26:27.298486Z"
    },
    "papermill": {
     "duration": 9.472564,
     "end_time": "2024-07-16T06:26:27.301549",
     "exception": false,
     "start_time": "2024-07-16T06:26:17.828985",
     "status": "completed"
    },
    "tags": []
   },
   "outputs": [],
   "source": [
    "# Load the train set\n",
    "dislikes = pd.read_csv(\"/kaggle/input/youtube-dislikes-info/train.csv\")"
   ]
  },
  {
   "cell_type": "code",
   "execution_count": 3,
   "id": "293fab57",
   "metadata": {
    "execution": {
     "iopub.execute_input": "2024-07-16T06:26:27.321203Z",
     "iopub.status.busy": "2024-07-16T06:26:27.320841Z",
     "iopub.status.idle": "2024-07-16T06:26:31.591104Z",
     "shell.execute_reply": "2024-07-16T06:26:31.590211Z"
    },
    "papermill": {
     "duration": 4.282663,
     "end_time": "2024-07-16T06:26:31.593334",
     "exception": false,
     "start_time": "2024-07-16T06:26:27.310671",
     "status": "completed"
    },
    "tags": []
   },
   "outputs": [],
   "source": [
    "# Load the test set\n",
    "test = pd.read_csv(\"/kaggle/input/youtube-dislikes-info/test.csv\")"
   ]
  },
  {
   "cell_type": "markdown",
   "id": "a905ab87",
   "metadata": {
    "papermill": {
     "duration": 0.0083,
     "end_time": "2024-07-16T06:26:31.610560",
     "exception": false,
     "start_time": "2024-07-16T06:26:31.602260",
     "status": "completed"
    },
    "tags": []
   },
   "source": [
    "# ***INSPECT DATA***"
   ]
  },
  {
   "cell_type": "code",
   "execution_count": 4,
   "id": "99122d89",
   "metadata": {
    "execution": {
     "iopub.execute_input": "2024-07-16T06:26:31.630158Z",
     "iopub.status.busy": "2024-07-16T06:26:31.629738Z",
     "iopub.status.idle": "2024-07-16T06:26:31.658171Z",
     "shell.execute_reply": "2024-07-16T06:26:31.657038Z"
    },
    "papermill": {
     "duration": 0.040972,
     "end_time": "2024-07-16T06:26:31.660030",
     "exception": false,
     "start_time": "2024-07-16T06:26:31.619058",
     "status": "completed"
    },
    "tags": []
   },
   "outputs": [
    {
     "data": {
      "text/html": [
       "<div>\n",
       "<style scoped>\n",
       "    .dataframe tbody tr th:only-of-type {\n",
       "        vertical-align: middle;\n",
       "    }\n",
       "\n",
       "    .dataframe tbody tr th {\n",
       "        vertical-align: top;\n",
       "    }\n",
       "\n",
       "    .dataframe thead th {\n",
       "        text-align: right;\n",
       "    }\n",
       "</style>\n",
       "<table border=\"1\" class=\"dataframe\">\n",
       "  <thead>\n",
       "    <tr style=\"text-align: right;\">\n",
       "      <th></th>\n",
       "      <th>upload_date</th>\n",
       "      <th>uploader_sub_count</th>\n",
       "      <th>view_count</th>\n",
       "      <th>like_count</th>\n",
       "      <th>dislike_count</th>\n",
       "      <th>has_subtitles</th>\n",
       "      <th>is_ads_enabled</th>\n",
       "      <th>is_comments_enabled</th>\n",
       "      <th>is_age_limit</th>\n",
       "      <th>is_live_content</th>\n",
       "      <th>description</th>\n",
       "      <th>title</th>\n",
       "    </tr>\n",
       "  </thead>\n",
       "  <tbody>\n",
       "    <tr>\n",
       "      <th>0</th>\n",
       "      <td>20160205</td>\n",
       "      <td>789</td>\n",
       "      <td>778</td>\n",
       "      <td>12</td>\n",
       "      <td>0</td>\n",
       "      <td>False</td>\n",
       "      <td>False</td>\n",
       "      <td>False</td>\n",
       "      <td>False</td>\n",
       "      <td>False</td>\n",
       "      <td>Provided to YouTube by Hungaroton\\n\\nEltávozot...</td>\n",
       "      <td>Eltávozott nap</td>\n",
       "    </tr>\n",
       "    <tr>\n",
       "      <th>1</th>\n",
       "      <td>20121001</td>\n",
       "      <td>221</td>\n",
       "      <td>32</td>\n",
       "      <td>1</td>\n",
       "      <td>0</td>\n",
       "      <td>False</td>\n",
       "      <td>False</td>\n",
       "      <td>True</td>\n",
       "      <td>False</td>\n",
       "      <td>False</td>\n",
       "      <td>y0 guys, one of my shots from my hitlists, but...</td>\n",
       "      <td>Hitlist Fail:/ #B2R</td>\n",
       "    </tr>\n",
       "    <tr>\n",
       "      <th>2</th>\n",
       "      <td>20210601</td>\n",
       "      <td>112</td>\n",
       "      <td>12</td>\n",
       "      <td>2</td>\n",
       "      <td>0</td>\n",
       "      <td>True</td>\n",
       "      <td>False</td>\n",
       "      <td>True</td>\n",
       "      <td>False</td>\n",
       "      <td>False</td>\n",
       "      <td>https://store.playstation.com/#!/tid=...</td>\n",
       "      <td>Call of Duty® warzone amp63</td>\n",
       "    </tr>\n",
       "    <tr>\n",
       "      <th>3</th>\n",
       "      <td>20210523</td>\n",
       "      <td>97</td>\n",
       "      <td>45</td>\n",
       "      <td>16</td>\n",
       "      <td>0</td>\n",
       "      <td>False</td>\n",
       "      <td>False</td>\n",
       "      <td>True</td>\n",
       "      <td>False</td>\n",
       "      <td>False</td>\n",
       "      <td>#حالات _واتساب _دينية</td>\n",
       "      <td>حالات واتساب  اجمل صوت (سلمت قلبي ❤) تصميمي.</td>\n",
       "    </tr>\n",
       "    <tr>\n",
       "      <th>4</th>\n",
       "      <td>20201124</td>\n",
       "      <td>469</td>\n",
       "      <td>16</td>\n",
       "      <td>6</td>\n",
       "      <td>0</td>\n",
       "      <td>True</td>\n",
       "      <td>False</td>\n",
       "      <td>True</td>\n",
       "      <td>False</td>\n",
       "      <td>False</td>\n",
       "      <td>Since I reviewed Fight Club earlier in 2020, I...</td>\n",
       "      <td>Fight Club (1999) Spoiler Review</td>\n",
       "    </tr>\n",
       "  </tbody>\n",
       "</table>\n",
       "</div>"
      ],
      "text/plain": [
       "  upload_date  uploader_sub_count  view_count  like_count  dislike_count  \\\n",
       "0    20160205                 789         778          12              0   \n",
       "1    20121001                 221          32           1              0   \n",
       "2    20210601                 112          12           2              0   \n",
       "3    20210523                  97          45          16              0   \n",
       "4    20201124                 469          16           6              0   \n",
       "\n",
       "   has_subtitles  is_ads_enabled  is_comments_enabled  is_age_limit  \\\n",
       "0          False           False                False         False   \n",
       "1          False           False                 True         False   \n",
       "2           True           False                 True         False   \n",
       "3          False           False                 True         False   \n",
       "4           True           False                 True         False   \n",
       "\n",
       "   is_live_content                                        description  \\\n",
       "0            False  Provided to YouTube by Hungaroton\\n\\nEltávozot...   \n",
       "1            False  y0 guys, one of my shots from my hitlists, but...   \n",
       "2            False           https://store.playstation.com/#!/tid=...   \n",
       "3            False                              #حالات _واتساب _دينية   \n",
       "4            False  Since I reviewed Fight Club earlier in 2020, I...   \n",
       "\n",
       "                                          title  \n",
       "0                                Eltávozott nap  \n",
       "1                           Hitlist Fail:/ #B2R  \n",
       "2                   Call of Duty® warzone amp63  \n",
       "3  حالات واتساب  اجمل صوت (سلمت قلبي ❤) تصميمي.  \n",
       "4              Fight Club (1999) Spoiler Review  "
      ]
     },
     "execution_count": 4,
     "metadata": {},
     "output_type": "execute_result"
    }
   ],
   "source": [
    "dislikes.head()"
   ]
  },
  {
   "cell_type": "code",
   "execution_count": 5,
   "id": "c10152f3",
   "metadata": {
    "execution": {
     "iopub.execute_input": "2024-07-16T06:26:31.680888Z",
     "iopub.status.busy": "2024-07-16T06:26:31.679729Z",
     "iopub.status.idle": "2024-07-16T06:26:31.835178Z",
     "shell.execute_reply": "2024-07-16T06:26:31.834028Z"
    },
    "papermill": {
     "duration": 0.16866,
     "end_time": "2024-07-16T06:26:31.837959",
     "exception": false,
     "start_time": "2024-07-16T06:26:31.669299",
     "status": "completed"
    },
    "tags": []
   },
   "outputs": [
    {
     "name": "stdout",
     "output_type": "stream",
     "text": [
      "<class 'pandas.core.frame.DataFrame'>\n",
      "RangeIndex: 671277 entries, 0 to 671276\n",
      "Data columns (total 12 columns):\n",
      " #   Column               Non-Null Count   Dtype \n",
      "---  ------               --------------   ----- \n",
      " 0   upload_date          671277 non-null  object\n",
      " 1   uploader_sub_count   671277 non-null  int64 \n",
      " 2   view_count           671277 non-null  int64 \n",
      " 3   like_count           671277 non-null  int64 \n",
      " 4   dislike_count        671277 non-null  int64 \n",
      " 5   has_subtitles        671277 non-null  bool  \n",
      " 6   is_ads_enabled       671277 non-null  bool  \n",
      " 7   is_comments_enabled  671277 non-null  bool  \n",
      " 8   is_age_limit         671277 non-null  bool  \n",
      " 9   is_live_content      671277 non-null  bool  \n",
      " 10  description          503648 non-null  object\n",
      " 11  title                671270 non-null  object\n",
      "dtypes: bool(5), int64(4), object(3)\n",
      "memory usage: 39.1+ MB\n"
     ]
    }
   ],
   "source": [
    "dislikes.info()"
   ]
  },
  {
   "cell_type": "markdown",
   "id": "9caba51a",
   "metadata": {
    "papermill": {
     "duration": 0.008687,
     "end_time": "2024-07-16T06:26:31.856611",
     "exception": false,
     "start_time": "2024-07-16T06:26:31.847924",
     "status": "completed"
    },
    "tags": []
   },
   "source": [
    "# ***EDA***\n",
    "\n",
    "We have two-thirds of a million YouTube videos as training data, and one-third as testing data. Excluding our **dependent** variable, we have 3 quantitative features and 8 qualitative features for a total of **11** attributes. Additionally, there are a lot of **missing values** on the description variable. If we were to perform sentiment analysis on that feature, we may need to drop a large amount of observations. \n",
    "<br><br>\n",
    "\n",
    "First, let's conduct an analysis on our quantatitative features. How do any of these features affect our response, the dislike count? "
   ]
  },
  {
   "cell_type": "code",
   "execution_count": 6,
   "id": "35c4068d",
   "metadata": {
    "_kg_hide-input": true,
    "execution": {
     "iopub.execute_input": "2024-07-16T06:26:31.876356Z",
     "iopub.status.busy": "2024-07-16T06:26:31.875888Z",
     "iopub.status.idle": "2024-07-16T06:26:36.951154Z",
     "shell.execute_reply": "2024-07-16T06:26:36.950094Z"
    },
    "papermill": {
     "duration": 5.088137,
     "end_time": "2024-07-16T06:26:36.953694",
     "exception": false,
     "start_time": "2024-07-16T06:26:31.865557",
     "status": "completed"
    },
    "tags": []
   },
   "outputs": [
    {
     "data": {
      "image/png": "[encoded data removed]",
      "text/plain": [
       "<Figure size 1600x500 with 3 Axes>"
      ]
     },
     "metadata": {},
     "output_type": "display_data"
    }
   ],
   "source": [
    "import seaborn as sns \n",
    "import matplotlib.pyplot as plt \n",
    "\n",
    "sns.set(style='dark')\n",
    "plt.figure(figsize=(16, 5))  # Adjust the figure size to fit all subplots\n",
    "\n",
    "# Subscriber counts\n",
    "plt.subplot(1, 3, 1)  \n",
    "sns.scatterplot(data=dislikes, x=\"uploader_sub_count\", y=\"dislike_count\", color='red')\n",
    "plt.gca().set_xticklabels([])\n",
    "plt.xlabel(\"Subscriber Count\", fontweight='bold')\n",
    "plt.ylabel(\"Dislike Count\", fontweight='bold')\n",
    "\n",
    "# View counts\n",
    "plt.subplot(1, 3, 2)  # 1 row, 3 columns, 2nd subplot\n",
    "sns.scatterplot(data=dislikes, x=\"view_count\", y=\"dislike_count\", color='blue')\n",
    "plt.gca().set_xticklabels([])\n",
    "plt.gca().set_yticklabels([])\n",
    "plt.xlabel(\"View Count\", fontweight='bold')\n",
    "plt.ylabel(\"\")\n",
    "\n",
    "# Like counts\n",
    "plt.subplot(1, 3, 3)  \n",
    "sns.scatterplot(data=dislikes, x=\"like_count\", y=\"dislike_count\", color='green')\n",
    "plt.gca().set_xticklabels([])\n",
    "plt.gca().set_yticklabels([])\n",
    "plt.xlabel(\"Like Count\", fontweight='bold')\n",
    "plt.ylabel(\"\")\n",
    "\n",
    "plt.tight_layout() \n",
    "plt.suptitle(\"Quantitative Features vs. Dislike Counts\", fontsize=20, fontweight='bold')\n",
    "plt.show()"
   ]
  },
  {
   "cell_type": "markdown",
   "id": "c80926f6",
   "metadata": {
    "papermill": {
     "duration": 0.009465,
     "end_time": "2024-07-16T06:26:36.973617",
     "exception": false,
     "start_time": "2024-07-16T06:26:36.964152",
     "status": "completed"
    },
    "tags": []
   },
   "source": [
    "View count is roughly okay; the linearity assumption has been met. However, it seems that the subscriber count and the like count may need some extra work. While there appears to be a relationship between these variables and the number of dislikes, this relationship is **not linear**, which suggests the need for **transformations**. \n",
    "\n",
    "Let's inspect this relationship further with a **heatmap**."
   ]
  },
  {
   "cell_type": "code",
   "execution_count": 7,
   "id": "332f44eb",
   "metadata": {
    "_kg_hide-input": true,
    "execution": {
     "iopub.execute_input": "2024-07-16T06:26:36.995019Z",
     "iopub.status.busy": "2024-07-16T06:26:36.994681Z",
     "iopub.status.idle": "2024-07-16T06:26:37.270273Z",
     "shell.execute_reply": "2024-07-16T06:26:37.268934Z"
    },
    "papermill": {
     "duration": 0.28891,
     "end_time": "2024-07-16T06:26:37.272287",
     "exception": false,
     "start_time": "2024-07-16T06:26:36.983377",
     "status": "completed"
    },
    "tags": []
   },
   "outputs": [
    {
     "data": {
      "image/png": "[encoded data removed]",
      "text/plain": [
       "<Figure size 640x480 with 2 Axes>"
      ]
     },
     "metadata": {},
     "output_type": "display_data"
    }
   ],
   "source": [
    "# Create a heatmap showing correlations between quantitative features\n",
    "numeric = dislikes.select_dtypes(include='int64')\n",
    "\n",
    "sns.heatmap(numeric.corr(), cmap=sns.cubehelix_palette(as_cmap=True))\n",
    "plt.show()"
   ]
  },
  {
   "cell_type": "code",
   "execution_count": 8,
   "id": "0a1ee172",
   "metadata": {
    "execution": {
     "iopub.execute_input": "2024-07-16T06:26:37.295415Z",
     "iopub.status.busy": "2024-07-16T06:26:37.294958Z",
     "iopub.status.idle": "2024-07-16T06:26:37.334400Z",
     "shell.execute_reply": "2024-07-16T06:26:37.333191Z"
    },
    "papermill": {
     "duration": 0.053227,
     "end_time": "2024-07-16T06:26:37.336614",
     "exception": false,
     "start_time": "2024-07-16T06:26:37.283387",
     "status": "completed"
    },
    "tags": []
   },
   "outputs": [
    {
     "data": {
      "text/html": [
       "<div>\n",
       "<style scoped>\n",
       "    .dataframe tbody tr th:only-of-type {\n",
       "        vertical-align: middle;\n",
       "    }\n",
       "\n",
       "    .dataframe tbody tr th {\n",
       "        vertical-align: top;\n",
       "    }\n",
       "\n",
       "    .dataframe thead th {\n",
       "        text-align: right;\n",
       "    }\n",
       "</style>\n",
       "<table border=\"1\" class=\"dataframe\">\n",
       "  <thead>\n",
       "    <tr style=\"text-align: right;\">\n",
       "      <th></th>\n",
       "      <th>uploader_sub_count</th>\n",
       "      <th>view_count</th>\n",
       "      <th>like_count</th>\n",
       "      <th>dislike_count</th>\n",
       "    </tr>\n",
       "  </thead>\n",
       "  <tbody>\n",
       "    <tr>\n",
       "      <th>uploader_sub_count</th>\n",
       "      <td>1.000000</td>\n",
       "      <td>0.054615</td>\n",
       "      <td>0.081060</td>\n",
       "      <td>0.051589</td>\n",
       "    </tr>\n",
       "    <tr>\n",
       "      <th>view_count</th>\n",
       "      <td>0.054615</td>\n",
       "      <td>1.000000</td>\n",
       "      <td>0.633906</td>\n",
       "      <td>0.640700</td>\n",
       "    </tr>\n",
       "    <tr>\n",
       "      <th>like_count</th>\n",
       "      <td>0.081060</td>\n",
       "      <td>0.633906</td>\n",
       "      <td>1.000000</td>\n",
       "      <td>0.550023</td>\n",
       "    </tr>\n",
       "    <tr>\n",
       "      <th>dislike_count</th>\n",
       "      <td>0.051589</td>\n",
       "      <td>0.640700</td>\n",
       "      <td>0.550023</td>\n",
       "      <td>1.000000</td>\n",
       "    </tr>\n",
       "  </tbody>\n",
       "</table>\n",
       "</div>"
      ],
      "text/plain": [
       "                    uploader_sub_count  view_count  like_count  dislike_count\n",
       "uploader_sub_count            1.000000    0.054615    0.081060       0.051589\n",
       "view_count                    0.054615    1.000000    0.633906       0.640700\n",
       "like_count                    0.081060    0.633906    1.000000       0.550023\n",
       "dislike_count                 0.051589    0.640700    0.550023       1.000000"
      ]
     },
     "execution_count": 8,
     "metadata": {},
     "output_type": "execute_result"
    }
   ],
   "source": [
    "numeric.corr()"
   ]
  },
  {
   "cell_type": "markdown",
   "id": "a5225210",
   "metadata": {
    "papermill": {
     "duration": 0.010398,
     "end_time": "2024-07-16T06:26:37.357895",
     "exception": false,
     "start_time": "2024-07-16T06:26:37.347497",
     "status": "completed"
    },
    "tags": []
   },
   "source": [
    "The heatmap seems to support my initial observation. Without any engineering, the uploader sub count **does not** seem to be an accurate predictor for the dislike count. However, the like count does show positive results, so I'll leave it alone. This heatmap also provides insight into the variables' relationships with one another. In particular, the **view count** and the **like count** seem closely related; we may need to watch out for **multicollinearity**."
   ]
  },
  {
   "cell_type": "markdown",
   "id": "316f446c",
   "metadata": {
    "papermill": {
     "duration": 0.010383,
     "end_time": "2024-07-16T06:26:37.378853",
     "exception": false,
     "start_time": "2024-07-16T06:26:37.368470",
     "status": "completed"
    },
    "tags": []
   },
   "source": [
    "# ***FEATURE ENGINEERING***\n",
    "\n",
    "At the moment, we can't really do much with the upload date feature. It is not quantitative, so we can't fit it into our model. There is a simple solution to this though—why don't we measure a video's age in days? This should give us the numerical feature we want. "
   ]
  },
  {
   "cell_type": "code",
   "execution_count": 9,
   "id": "3eb7a69d",
   "metadata": {
    "execution": {
     "iopub.execute_input": "2024-07-16T06:26:37.402230Z",
     "iopub.status.busy": "2024-07-16T06:26:37.401804Z",
     "iopub.status.idle": "2024-07-16T06:26:37.534591Z",
     "shell.execute_reply": "2024-07-16T06:26:37.532657Z"
    },
    "papermill": {
     "duration": 0.14867,
     "end_time": "2024-07-16T06:26:37.538096",
     "exception": false,
     "start_time": "2024-07-16T06:26:37.389426",
     "status": "completed"
    },
    "tags": []
   },
   "outputs": [],
   "source": [
    "# Convert to pandas datetime to access additional attributes\n",
    "dislikes['upload_date'] = pd.to_datetime(dislikes['upload_date'], errors='coerce')\n",
    "# Obtain the number of days\n",
    "dislikes['age'] = (pd.Timestamp.today() - dislikes[\"upload_date\"]).dt.days"
   ]
  },
  {
   "cell_type": "code",
   "execution_count": 10,
   "id": "a762f4e5",
   "metadata": {
    "_kg_hide-input": true,
    "execution": {
     "iopub.execute_input": "2024-07-16T06:26:37.561819Z",
     "iopub.status.busy": "2024-07-16T06:26:37.561407Z",
     "iopub.status.idle": "2024-07-16T06:26:37.630179Z",
     "shell.execute_reply": "2024-07-16T06:26:37.628748Z"
    },
    "papermill": {
     "duration": 0.08362,
     "end_time": "2024-07-16T06:26:37.632996",
     "exception": false,
     "start_time": "2024-07-16T06:26:37.549376",
     "status": "completed"
    },
    "tags": []
   },
   "outputs": [],
   "source": [
    "# Convert to pandas datetime to access additional attributes\n",
    "test['upload_date'] = pd.to_datetime(test['upload_date'], errors='coerce')\n",
    "# Obtain the number of days\n",
    "test['age'] = (pd.Timestamp.today() - test[\"upload_date\"]).dt.days"
   ]
  },
  {
   "cell_type": "markdown",
   "id": "dcd0f48a",
   "metadata": {
    "papermill": {
     "duration": 0.010113,
     "end_time": "2024-07-16T06:26:37.654196",
     "exception": false,
     "start_time": "2024-07-16T06:26:37.644083",
     "status": "completed"
    },
    "tags": []
   },
   "source": [
    "Now, let's bring back the  subscriber count scatterplot. As mentioned before, it can be shown that there exists a nonlinear relationship between the two variables. This suggests the need for transformations."
   ]
  },
  {
   "cell_type": "code",
   "execution_count": 11,
   "id": "84d27960",
   "metadata": {
    "_kg_hide-input": true,
    "execution": {
     "iopub.execute_input": "2024-07-16T06:26:37.676813Z",
     "iopub.status.busy": "2024-07-16T06:26:37.676428Z",
     "iopub.status.idle": "2024-07-16T06:26:38.922915Z",
     "shell.execute_reply": "2024-07-16T06:26:38.921751Z"
    },
    "papermill": {
     "duration": 1.260731,
     "end_time": "2024-07-16T06:26:38.925028",
     "exception": false,
     "start_time": "2024-07-16T06:26:37.664297",
     "status": "completed"
    },
    "tags": []
   },
   "outputs": [
    {
     "data": {
      "image/png": "[encoded data removed]",
      "text/plain": [
       "<Figure size 400x300 with 1 Axes>"
      ]
     },
     "metadata": {},
     "output_type": "display_data"
    }
   ],
   "source": [
    "# Subscriber counts\n",
    "plt.figure(figsize=(4, 3))\n",
    "sns.scatterplot(data=dislikes, x=\"uploader_sub_count\", y=\"dislike_count\", color='red')\n",
    "plt.gca().set_xticklabels([])\n",
    "plt.xlabel(\"Subscriber Count\", fontweight='bold')\n",
    "plt.ylabel(\"Dislike Count\", fontweight='bold')\n",
    "plt.title(\"Subscribers vs. Dislike Count\", fontweight='bold')\n",
    "\n",
    "plt.show()"
   ]
  },
  {
   "cell_type": "markdown",
   "id": "23abdbb6",
   "metadata": {
    "papermill": {
     "duration": 0.011344,
     "end_time": "2024-07-16T06:26:38.947340",
     "exception": false,
     "start_time": "2024-07-16T06:26:38.935996",
     "status": "completed"
    },
    "tags": []
   },
   "source": [
    "To capture this non-linear relationship, we can try a log transformation. This has the effect of linearizing the relationship to a degree, which is an important assumption for linear regression."
   ]
  },
  {
   "cell_type": "code",
   "execution_count": 12,
   "id": "9f09848e",
   "metadata": {
    "execution": {
     "iopub.execute_input": "2024-07-16T06:26:38.969527Z",
     "iopub.status.busy": "2024-07-16T06:26:38.969192Z",
     "iopub.status.idle": "2024-07-16T06:26:39.984590Z",
     "shell.execute_reply": "2024-07-16T06:26:39.983440Z"
    },
    "papermill": {
     "duration": 1.029597,
     "end_time": "2024-07-16T06:26:39.987264",
     "exception": false,
     "start_time": "2024-07-16T06:26:38.957667",
     "status": "completed"
    },
    "tags": []
   },
   "outputs": [],
   "source": [
    "dislikes[dislikes['uploader_sub_count'] < 0] = 0 \n",
    "\n",
    "# Reciprocate the sub count \n",
    "dislikes['uploader_sub_count_log'] = np.log1p(dislikes['uploader_sub_count'])"
   ]
  },
  {
   "cell_type": "code",
   "execution_count": 13,
   "id": "05fce773",
   "metadata": {
    "_kg_hide-input": true,
    "execution": {
     "iopub.execute_input": "2024-07-16T06:26:40.013650Z",
     "iopub.status.busy": "2024-07-16T06:26:40.013269Z",
     "iopub.status.idle": "2024-07-16T06:26:40.613885Z",
     "shell.execute_reply": "2024-07-16T06:26:40.612725Z"
    },
    "papermill": {
     "duration": 0.617787,
     "end_time": "2024-07-16T06:26:40.616182",
     "exception": false,
     "start_time": "2024-07-16T06:26:39.998395",
     "status": "completed"
    },
    "tags": []
   },
   "outputs": [],
   "source": [
    "test[test['uploader_sub_count'] < 0] = 0 \n",
    "\n",
    "# Reciprocate the sub count \n",
    "test['uploader_sub_count_log'] = np.log1p(test['uploader_sub_count'])"
   ]
  },
  {
   "cell_type": "markdown",
   "id": "66ee9ebd",
   "metadata": {
    "papermill": {
     "duration": 0.010109,
     "end_time": "2024-07-16T06:26:40.636941",
     "exception": false,
     "start_time": "2024-07-16T06:26:40.626832",
     "status": "completed"
    },
    "tags": []
   },
   "source": [
    "Because there are a lot of missing values specifically in the description and title variables, I've decided to **exclude** them from the full model. In their place, I've chosen to simply encode them by whether or not that feature is present in a video. Who knows—it might be possible that videos without a description get more dislikes than those with one. "
   ]
  },
  {
   "cell_type": "code",
   "execution_count": 14,
   "id": "cd0c78a7",
   "metadata": {
    "execution": {
     "iopub.execute_input": "2024-07-16T06:26:40.659370Z",
     "iopub.status.busy": "2024-07-16T06:26:40.659019Z",
     "iopub.status.idle": "2024-07-16T06:26:41.589593Z",
     "shell.execute_reply": "2024-07-16T06:26:41.588538Z"
    },
    "papermill": {
     "duration": 0.944493,
     "end_time": "2024-07-16T06:26:41.591895",
     "exception": false,
     "start_time": "2024-07-16T06:26:40.647402",
     "status": "completed"
    },
    "tags": []
   },
   "outputs": [],
   "source": [
    "dislikes['has_description'] = dislikes['description'].apply(lambda x: 1 if pd.isnull(x) else 0)\n",
    "dislikes['has_title'] = dislikes['title'].apply(lambda x: 1 if pd.isnull(x) else 0)"
   ]
  },
  {
   "cell_type": "code",
   "execution_count": 15,
   "id": "e481deb1",
   "metadata": {
    "execution": {
     "iopub.execute_input": "2024-07-16T06:26:41.615660Z",
     "iopub.status.busy": "2024-07-16T06:26:41.615337Z",
     "iopub.status.idle": "2024-07-16T06:26:42.112965Z",
     "shell.execute_reply": "2024-07-16T06:26:42.111835Z"
    },
    "papermill": {
     "duration": 0.512553,
     "end_time": "2024-07-16T06:26:42.115576",
     "exception": false,
     "start_time": "2024-07-16T06:26:41.603023",
     "status": "completed"
    },
    "tags": []
   },
   "outputs": [],
   "source": [
    "test['has_description'] = test['description'].apply(lambda x: 1 if pd.isnull(x) else 0)\n",
    "test['has_title'] = test['title'].apply(lambda x: 1 if pd.isnull(x) else 0)"
   ]
  },
  {
   "cell_type": "markdown",
   "id": "23eca6d4",
   "metadata": {
    "papermill": {
     "duration": 0.01111,
     "end_time": "2024-07-16T06:26:42.217339",
     "exception": false,
     "start_time": "2024-07-16T06:26:42.206229",
     "status": "completed"
    },
    "tags": []
   },
   "source": [
    "Now, we're ready to preprocess our data for fitting. \n",
    "\n",
    "# ***DATA PREPROCESSING***\n",
    "\n",
    "Having experimented with several features, I believe that these four are ones that truly don't have much impact on our model. They will be removed to anticipate and eliminate some of the noise present with our current feature set. "
   ]
  },
  {
   "cell_type": "code",
   "execution_count": 16,
   "id": "9a37748a",
   "metadata": {
    "execution": {
     "iopub.execute_input": "2024-07-16T06:26:42.240824Z",
     "iopub.status.busy": "2024-07-16T06:26:42.239690Z",
     "iopub.status.idle": "2024-07-16T06:26:42.245186Z",
     "shell.execute_reply": "2024-07-16T06:26:42.244074Z"
    },
    "papermill": {
     "duration": 0.019383,
     "end_time": "2024-07-16T06:26:42.247093",
     "exception": false,
     "start_time": "2024-07-16T06:26:42.227710",
     "status": "completed"
    },
    "tags": []
   },
   "outputs": [],
   "source": [
    "features_to_drop = ['upload_date', 'title', 'description', 'uploader_sub_count']"
   ]
  },
  {
   "cell_type": "code",
   "execution_count": 17,
   "id": "462912e7",
   "metadata": {
    "execution": {
     "iopub.execute_input": "2024-07-16T06:26:42.271289Z",
     "iopub.status.busy": "2024-07-16T06:26:42.269740Z",
     "iopub.status.idle": "2024-07-16T06:26:42.620052Z",
     "shell.execute_reply": "2024-07-16T06:26:42.618672Z"
    },
    "papermill": {
     "duration": 0.365009,
     "end_time": "2024-07-16T06:26:42.622775",
     "exception": false,
     "start_time": "2024-07-16T06:26:42.257766",
     "status": "completed"
    },
    "tags": []
   },
   "outputs": [],
   "source": [
    "dislikes = dislikes.drop(dislikes[features_to_drop], axis=1)\n",
    "dislikes = dislikes.dropna()"
   ]
  },
  {
   "cell_type": "code",
   "execution_count": 18,
   "id": "cb77202b",
   "metadata": {
    "_kg_hide-input": true,
    "execution": {
     "iopub.execute_input": "2024-07-16T06:26:42.646676Z",
     "iopub.status.busy": "2024-07-16T06:26:42.646265Z",
     "iopub.status.idle": "2024-07-16T06:26:42.880821Z",
     "shell.execute_reply": "2024-07-16T06:26:42.879002Z"
    },
    "papermill": {
     "duration": 0.248706,
     "end_time": "2024-07-16T06:26:42.883086",
     "exception": false,
     "start_time": "2024-07-16T06:26:42.634380",
     "status": "completed"
    },
    "tags": []
   },
   "outputs": [],
   "source": [
    "test = test.drop(test[features_to_drop], axis=1)\n",
    "test = test.dropna()"
   ]
  },
  {
   "cell_type": "markdown",
   "id": "d05710a7",
   "metadata": {
    "papermill": {
     "duration": 0.010313,
     "end_time": "2024-07-16T06:26:42.904320",
     "exception": false,
     "start_time": "2024-07-16T06:26:42.894007",
     "status": "completed"
    },
    "tags": []
   },
   "source": [
    "Now, let's one-hot encode our qualitative features prior to fitting our model. "
   ]
  },
  {
   "cell_type": "code",
   "execution_count": 19,
   "id": "9669e24c",
   "metadata": {
    "execution": {
     "iopub.execute_input": "2024-07-16T06:26:42.927534Z",
     "iopub.status.busy": "2024-07-16T06:26:42.927056Z",
     "iopub.status.idle": "2024-07-16T06:26:42.932846Z",
     "shell.execute_reply": "2024-07-16T06:26:42.931678Z"
    },
    "papermill": {
     "duration": 0.019702,
     "end_time": "2024-07-16T06:26:42.934512",
     "exception": false,
     "start_time": "2024-07-16T06:26:42.914810",
     "status": "completed"
    },
    "tags": []
   },
   "outputs": [],
   "source": [
    "cat = ['has_subtitles', 'is_comments_enabled', 'is_ads_enabled', 'is_live_content',\n",
    "       'is_age_limit'] # Define categorical features"
   ]
  },
  {
   "cell_type": "code",
   "execution_count": 20,
   "id": "c05f8ba4",
   "metadata": {
    "execution": {
     "iopub.execute_input": "2024-07-16T06:26:42.957983Z",
     "iopub.status.busy": "2024-07-16T06:26:42.957003Z",
     "iopub.status.idle": "2024-07-16T06:26:43.268438Z",
     "shell.execute_reply": "2024-07-16T06:26:43.267355Z"
    },
    "papermill": {
     "duration": 0.325576,
     "end_time": "2024-07-16T06:26:43.270615",
     "exception": false,
     "start_time": "2024-07-16T06:26:42.945039",
     "status": "completed"
    },
    "tags": []
   },
   "outputs": [],
   "source": [
    "# Drop first variable as it's already explained by the absence of other variables\n",
    "dislikes = pd.get_dummies(dislikes, columns=cat, drop_first=True)"
   ]
  },
  {
   "cell_type": "code",
   "execution_count": 21,
   "id": "5a6fd0f2",
   "metadata": {
    "_kg_hide-input": true,
    "execution": {
     "iopub.execute_input": "2024-07-16T06:26:43.299733Z",
     "iopub.status.busy": "2024-07-16T06:26:43.297295Z",
     "iopub.status.idle": "2024-07-16T06:26:43.448782Z",
     "shell.execute_reply": "2024-07-16T06:26:43.447794Z"
    },
    "papermill": {
     "duration": 0.170006,
     "end_time": "2024-07-16T06:26:43.451394",
     "exception": false,
     "start_time": "2024-07-16T06:26:43.281388",
     "status": "completed"
    },
    "tags": []
   },
   "outputs": [],
   "source": [
    "# Drop first variable as it's already explained by the absence of other variables\n",
    "test = pd.get_dummies(test, columns=cat, drop_first=True)"
   ]
  },
  {
   "cell_type": "markdown",
   "id": "4c3a0c25",
   "metadata": {
    "papermill": {
     "duration": 0.010401,
     "end_time": "2024-07-16T06:26:43.472625",
     "exception": false,
     "start_time": "2024-07-16T06:26:43.462224",
     "status": "completed"
    },
    "tags": []
   },
   "source": [
    "Finally, let's split our data into explanatory variables and response. "
   ]
  },
  {
   "cell_type": "code",
   "execution_count": 22,
   "id": "0d36f8d3",
   "metadata": {
    "execution": {
     "iopub.execute_input": "2024-07-16T06:26:43.496739Z",
     "iopub.status.busy": "2024-07-16T06:26:43.495470Z",
     "iopub.status.idle": "2024-07-16T06:26:43.519174Z",
     "shell.execute_reply": "2024-07-16T06:26:43.517824Z"
    },
    "papermill": {
     "duration": 0.038998,
     "end_time": "2024-07-16T06:26:43.522185",
     "exception": false,
     "start_time": "2024-07-16T06:26:43.483187",
     "status": "completed"
    },
    "tags": []
   },
   "outputs": [],
   "source": [
    "X = dislikes.drop(\"dislike_count\", axis=1)\n",
    "y = dislikes['dislike_count'] "
   ]
  },
  {
   "cell_type": "markdown",
   "id": "f9b15e34",
   "metadata": {
    "papermill": {
     "duration": 0.010528,
     "end_time": "2024-07-16T06:26:43.543915",
     "exception": false,
     "start_time": "2024-07-16T06:26:43.533387",
     "status": "completed"
    },
    "tags": []
   },
   "source": [
    "# ***CROSS VALIDATION & FITTING***\n",
    "\n",
    "As with any machine learning model, often the best solution to a surplus of options is to simply try all of them and select the best. As such, we will be trying three regressors: first, linear regression. This serves as a benchmark for the two shrinkage methods known as LASSO and Ridge, which are less flexible extensions to multiple linear regression. \n",
    "<br><br>\n",
    "To measure their efficacy, we will perform what's known as k-fold cross validation. The algorithm is simple. First, let's divide our data into $k = 10$ folds. For all $k$ iterations, $k-1$ of the \"folds\" will participate as a training set, while the remaining fold is the test set we use to compare our results. We repeat this process until all folds have been the test set exactly once, which yields $k$ scores (the root-mean-square-errors, in our case). Then, we simply take the average of these scores. This algorithm is to be performed on all of our models, which ultimately leaves us with three RMSE's. We will simply select the best bang for our buck. "
   ]
  },
  {
   "cell_type": "code",
   "execution_count": 23,
   "id": "62ff7467",
   "metadata": {
    "execution": {
     "iopub.execute_input": "2024-07-16T06:26:43.568909Z",
     "iopub.status.busy": "2024-07-16T06:26:43.567600Z",
     "iopub.status.idle": "2024-07-16T06:26:46.658391Z",
     "shell.execute_reply": "2024-07-16T06:26:46.657623Z"
    },
    "papermill": {
     "duration": 3.10625,
     "end_time": "2024-07-16T06:26:46.661137",
     "exception": false,
     "start_time": "2024-07-16T06:26:43.554887",
     "status": "completed"
    },
    "tags": []
   },
   "outputs": [],
   "source": [
    "from sklearn.linear_model import LinearRegression\n",
    "from sklearn.model_selection import cross_val_score \n",
    "\n",
    "lr = LinearRegression() \n",
    "\n",
    "# Perform k-fold cv with k = 10 folds\n",
    "linear_cv = cross_val_score(lr, X, y, cv=10, scoring='neg_root_mean_squared_error')\n",
    "rmse = -linear_cv.mean() "
   ]
  },
  {
   "cell_type": "code",
   "execution_count": 24,
   "id": "6632d685",
   "metadata": {
    "execution": {
     "iopub.execute_input": "2024-07-16T06:26:46.718272Z",
     "iopub.status.busy": "2024-07-16T06:26:46.717652Z",
     "iopub.status.idle": "2024-07-16T06:26:46.722375Z",
     "shell.execute_reply": "2024-07-16T06:26:46.721629Z"
    },
    "papermill": {
     "duration": 0.046193,
     "end_time": "2024-07-16T06:26:46.727456",
     "exception": false,
     "start_time": "2024-07-16T06:26:46.681263",
     "status": "completed"
    },
    "tags": []
   },
   "outputs": [
    {
     "name": "stdout",
     "output_type": "stream",
     "text": [
      "With linear regression, our rmse is 406.0512.\n"
     ]
    }
   ],
   "source": [
    "print(f'With linear regression, our rmse is {round(rmse, 4)}.')"
   ]
  },
  {
   "cell_type": "code",
   "execution_count": 25,
   "id": "21c40cbc",
   "metadata": {
    "execution": {
     "iopub.execute_input": "2024-07-16T06:26:46.766734Z",
     "iopub.status.busy": "2024-07-16T06:26:46.766152Z",
     "iopub.status.idle": "2024-07-16T06:27:06.511148Z",
     "shell.execute_reply": "2024-07-16T06:27:06.510456Z"
    },
    "papermill": {
     "duration": 19.762233,
     "end_time": "2024-07-16T06:27:06.513184",
     "exception": false,
     "start_time": "2024-07-16T06:26:46.750951",
     "status": "completed"
    },
    "tags": []
   },
   "outputs": [
    {
     "data": {
      "text/html": [
       "<style>#sk-container-id-1 {color: black;background-color: white;}#sk-container-id-1 pre{padding: 0;}#sk-container-id-1 div.sk-toggleable {background-color: white;}#sk-container-id-1 label.sk-toggleable__label {cursor: pointer;display: block;width: 100%;margin-bottom: 0;padding: 0.3em;box-sizing: border-box;text-align: center;}#sk-container-id-1 label.sk-toggleable__label-arrow:before {content: \"▸\";float: left;margin-right: 0.25em;color: #696969;}#sk-container-id-1 label.sk-toggleable__label-arrow:hover:before {color: black;}#sk-container-id-1 div.sk-estimator:hover label.sk-toggleable__label-arrow:before {color: black;}#sk-container-id-1 div.sk-toggleable__content {max-height: 0;max-width: 0;overflow: hidden;text-align: left;background-color: #f0f8ff;}#sk-container-id-1 div.sk-toggleable__content pre {margin: 0.2em;color: black;border-radius: 0.25em;background-color: #f0f8ff;}#sk-container-id-1 input.sk-toggleable__control:checked~div.sk-toggleable__content {max-height: 200px;max-width: 100%;overflow: auto;}#sk-container-id-1 input.sk-toggleable__control:checked~label.sk-toggleable__label-arrow:before {content: \"▾\";}#sk-container-id-1 div.sk-estimator input.sk-toggleable__control:checked~label.sk-toggleable__label {background-color: #d4ebff;}#sk-container-id-1 div.sk-label input.sk-toggleable__control:checked~label.sk-toggleable__label {background-color: #d4ebff;}#sk-container-id-1 input.sk-hidden--visually {border: 0;clip: rect(1px 1px 1px 1px);clip: rect(1px, 1px, 1px, 1px);height: 1px;margin: -1px;overflow: hidden;padding: 0;position: absolute;width: 1px;}#sk-container-id-1 div.sk-estimator {font-family: monospace;background-color: #f0f8ff;border: 1px dotted black;border-radius: 0.25em;box-sizing: border-box;margin-bottom: 0.5em;}#sk-container-id-1 div.sk-estimator:hover {background-color: #d4ebff;}#sk-container-id-1 div.sk-parallel-item::after {content: \"\";width: 100%;border-bottom: 1px solid gray;flex-grow: 1;}#sk-container-id-1 div.sk-label:hover label.sk-toggleable__label {background-color: #d4ebff;}#sk-container-id-1 div.sk-serial::before {content: \"\";position: absolute;border-left: 1px solid gray;box-sizing: border-box;top: 0;bottom: 0;left: 50%;z-index: 0;}#sk-container-id-1 div.sk-serial {display: flex;flex-direction: column;align-items: center;background-color: white;padding-right: 0.2em;padding-left: 0.2em;position: relative;}#sk-container-id-1 div.sk-item {position: relative;z-index: 1;}#sk-container-id-1 div.sk-parallel {display: flex;align-items: stretch;justify-content: center;background-color: white;position: relative;}#sk-container-id-1 div.sk-item::before, #sk-container-id-1 div.sk-parallel-item::before {content: \"\";position: absolute;border-left: 1px solid gray;box-sizing: border-box;top: 0;bottom: 0;left: 50%;z-index: -1;}#sk-container-id-1 div.sk-parallel-item {display: flex;flex-direction: column;z-index: 1;position: relative;background-color: white;}#sk-container-id-1 div.sk-parallel-item:first-child::after {align-self: flex-end;width: 50%;}#sk-container-id-1 div.sk-parallel-item:last-child::after {align-self: flex-start;width: 50%;}#sk-container-id-1 div.sk-parallel-item:only-child::after {width: 0;}#sk-container-id-1 div.sk-dashed-wrapped {border: 1px dashed gray;margin: 0 0.4em 0.5em 0.4em;box-sizing: border-box;padding-bottom: 0.4em;background-color: white;}#sk-container-id-1 div.sk-label label {font-family: monospace;font-weight: bold;display: inline-block;line-height: 1.2em;}#sk-container-id-1 div.sk-label-container {text-align: center;}#sk-container-id-1 div.sk-container {/* jupyter's `normalize.less` sets `[hidden] { display: none; }` but bootstrap.min.css set `[hidden] { display: none !important; }` so we also need the `!important` here to be able to override the default hidden behavior on the sphinx rendered scikit-learn.org. See: https://github.com/scikit-learn/scikit-learn/issues/21755 */display: inline-block !important;position: relative;}#sk-container-id-1 div.sk-text-repr-fallback {display: none;}</style><div id=\"sk-container-id-1\" class=\"sk-top-container\"><div class=\"sk-text-repr-fallback\"><pre>GridSearchCV(cv=10, estimator=Lasso(),\n",
       "             param_grid={&#x27;alpha&#x27;: [0.01, 0.1, 1, 10, 100]},\n",
       "             scoring=&#x27;neg_root_mean_squared_error&#x27;)</pre><b>In a Jupyter environment, please rerun this cell to show the HTML representation or trust the notebook. <br />On GitHub, the HTML representation is unable to render, please try loading this page with nbviewer.org.</b></div><div class=\"sk-container\" hidden><div class=\"sk-item sk-dashed-wrapped\"><div class=\"sk-label-container\"><div class=\"sk-label sk-toggleable\"><input class=\"sk-toggleable__control sk-hidden--visually\" id=\"sk-estimator-id-1\" type=\"checkbox\" ><label for=\"sk-estimator-id-1\" class=\"sk-toggleable__label sk-toggleable__label-arrow\">GridSearchCV</label><div class=\"sk-toggleable__content\"><pre>GridSearchCV(cv=10, estimator=Lasso(),\n",
       "             param_grid={&#x27;alpha&#x27;: [0.01, 0.1, 1, 10, 100]},\n",
       "             scoring=&#x27;neg_root_mean_squared_error&#x27;)</pre></div></div></div><div class=\"sk-parallel\"><div class=\"sk-parallel-item\"><div class=\"sk-item\"><div class=\"sk-label-container\"><div class=\"sk-label sk-toggleable\"><input class=\"sk-toggleable__control sk-hidden--visually\" id=\"sk-estimator-id-2\" type=\"checkbox\" ><label for=\"sk-estimator-id-2\" class=\"sk-toggleable__label sk-toggleable__label-arrow\">estimator: Lasso</label><div class=\"sk-toggleable__content\"><pre>Lasso()</pre></div></div></div><div class=\"sk-serial\"><div class=\"sk-item\"><div class=\"sk-estimator sk-toggleable\"><input class=\"sk-toggleable__control sk-hidden--visually\" id=\"sk-estimator-id-3\" type=\"checkbox\" ><label for=\"sk-estimator-id-3\" class=\"sk-toggleable__label sk-toggleable__label-arrow\">Lasso</label><div class=\"sk-toggleable__content\"><pre>Lasso()</pre></div></div></div></div></div></div></div></div></div></div>"
      ],
      "text/plain": [
       "GridSearchCV(cv=10, estimator=Lasso(),\n",
       "             param_grid={'alpha': [0.01, 0.1, 1, 10, 100]},\n",
       "             scoring='neg_root_mean_squared_error')"
      ]
     },
     "execution_count": 25,
     "metadata": {},
     "output_type": "execute_result"
    }
   ],
   "source": [
    "from sklearn.linear_model import Lasso\n",
    "from sklearn.model_selection import GridSearchCV\n",
    "\n",
    "alphas = [0.01, 0.1, 1, 10, 100]\n",
    "param_grid = {'alpha': alphas}\n",
    "\n",
    "lasso = Lasso()\n",
    "\n",
    "# Set up Grid Search to find best lambda value\n",
    "lasso_cv = GridSearchCV(lasso, param_grid, cv=10, scoring='neg_root_mean_squared_error')\n",
    "lasso_cv.fit(X, y)"
   ]
  },
  {
   "cell_type": "code",
   "execution_count": 26,
   "id": "f22ad2cc",
   "metadata": {
    "execution": {
     "iopub.execute_input": "2024-07-16T06:27:06.545695Z",
     "iopub.status.busy": "2024-07-16T06:27:06.544035Z",
     "iopub.status.idle": "2024-07-16T06:27:06.551014Z",
     "shell.execute_reply": "2024-07-16T06:27:06.550203Z"
    },
    "papermill": {
     "duration": 0.028175,
     "end_time": "2024-07-16T06:27:06.556266",
     "exception": false,
     "start_time": "2024-07-16T06:27:06.528091",
     "status": "completed"
    },
    "tags": []
   },
   "outputs": [
    {
     "name": "stdout",
     "output_type": "stream",
     "text": [
      "With LASSO, the rmse is 406.0498 for a lambda of 0.1.\n"
     ]
    }
   ],
   "source": [
    "# Get the best parameters and score\n",
    "lasso_best_lambda = lasso_cv.best_params_['alpha'] # 0.1\n",
    "rmse = -lasso_cv.best_score_  # Note the negative sign to convert back to RMSE\n",
    "\n",
    "print(f'With LASSO, the rmse is {round(rmse, 4)} for a lambda of {lasso_best_lambda}.')"
   ]
  },
  {
   "cell_type": "code",
   "execution_count": 27,
   "id": "044b9217",
   "metadata": {
    "execution": {
     "iopub.execute_input": "2024-07-16T06:27:06.587269Z",
     "iopub.status.busy": "2024-07-16T06:27:06.586844Z",
     "iopub.status.idle": "2024-07-16T06:27:12.121153Z",
     "shell.execute_reply": "2024-07-16T06:27:12.120276Z"
    },
    "papermill": {
     "duration": 5.553223,
     "end_time": "2024-07-16T06:27:12.123924",
     "exception": false,
     "start_time": "2024-07-16T06:27:06.570701",
     "status": "completed"
    },
    "tags": []
   },
   "outputs": [
    {
     "data": {
      "text/html": [
       "<style>#sk-container-id-2 {color: black;background-color: white;}#sk-container-id-2 pre{padding: 0;}#sk-container-id-2 div.sk-toggleable {background-color: white;}#sk-container-id-2 label.sk-toggleable__label {cursor: pointer;display: block;width: 100%;margin-bottom: 0;padding: 0.3em;box-sizing: border-box;text-align: center;}#sk-container-id-2 label.sk-toggleable__label-arrow:before {content: \"▸\";float: left;margin-right: 0.25em;color: #696969;}#sk-container-id-2 label.sk-toggleable__label-arrow:hover:before {color: black;}#sk-container-id-2 div.sk-estimator:hover label.sk-toggleable__label-arrow:before {color: black;}#sk-container-id-2 div.sk-toggleable__content {max-height: 0;max-width: 0;overflow: hidden;text-align: left;background-color: #f0f8ff;}#sk-container-id-2 div.sk-toggleable__content pre {margin: 0.2em;color: black;border-radius: 0.25em;background-color: #f0f8ff;}#sk-container-id-2 input.sk-toggleable__control:checked~div.sk-toggleable__content {max-height: 200px;max-width: 100%;overflow: auto;}#sk-container-id-2 input.sk-toggleable__control:checked~label.sk-toggleable__label-arrow:before {content: \"▾\";}#sk-container-id-2 div.sk-estimator input.sk-toggleable__control:checked~label.sk-toggleable__label {background-color: #d4ebff;}#sk-container-id-2 div.sk-label input.sk-toggleable__control:checked~label.sk-toggleable__label {background-color: #d4ebff;}#sk-container-id-2 input.sk-hidden--visually {border: 0;clip: rect(1px 1px 1px 1px);clip: rect(1px, 1px, 1px, 1px);height: 1px;margin: -1px;overflow: hidden;padding: 0;position: absolute;width: 1px;}#sk-container-id-2 div.sk-estimator {font-family: monospace;background-color: #f0f8ff;border: 1px dotted black;border-radius: 0.25em;box-sizing: border-box;margin-bottom: 0.5em;}#sk-container-id-2 div.sk-estimator:hover {background-color: #d4ebff;}#sk-container-id-2 div.sk-parallel-item::after {content: \"\";width: 100%;border-bottom: 1px solid gray;flex-grow: 1;}#sk-container-id-2 div.sk-label:hover label.sk-toggleable__label {background-color: #d4ebff;}#sk-container-id-2 div.sk-serial::before {content: \"\";position: absolute;border-left: 1px solid gray;box-sizing: border-box;top: 0;bottom: 0;left: 50%;z-index: 0;}#sk-container-id-2 div.sk-serial {display: flex;flex-direction: column;align-items: center;background-color: white;padding-right: 0.2em;padding-left: 0.2em;position: relative;}#sk-container-id-2 div.sk-item {position: relative;z-index: 1;}#sk-container-id-2 div.sk-parallel {display: flex;align-items: stretch;justify-content: center;background-color: white;position: relative;}#sk-container-id-2 div.sk-item::before, #sk-container-id-2 div.sk-parallel-item::before {content: \"\";position: absolute;border-left: 1px solid gray;box-sizing: border-box;top: 0;bottom: 0;left: 50%;z-index: -1;}#sk-container-id-2 div.sk-parallel-item {display: flex;flex-direction: column;z-index: 1;position: relative;background-color: white;}#sk-container-id-2 div.sk-parallel-item:first-child::after {align-self: flex-end;width: 50%;}#sk-container-id-2 div.sk-parallel-item:last-child::after {align-self: flex-start;width: 50%;}#sk-container-id-2 div.sk-parallel-item:only-child::after {width: 0;}#sk-container-id-2 div.sk-dashed-wrapped {border: 1px dashed gray;margin: 0 0.4em 0.5em 0.4em;box-sizing: border-box;padding-bottom: 0.4em;background-color: white;}#sk-container-id-2 div.sk-label label {font-family: monospace;font-weight: bold;display: inline-block;line-height: 1.2em;}#sk-container-id-2 div.sk-label-container {text-align: center;}#sk-container-id-2 div.sk-container {/* jupyter's `normalize.less` sets `[hidden] { display: none; }` but bootstrap.min.css set `[hidden] { display: none !important; }` so we also need the `!important` here to be able to override the default hidden behavior on the sphinx rendered scikit-learn.org. See: https://github.com/scikit-learn/scikit-learn/issues/21755 */display: inline-block !important;position: relative;}#sk-container-id-2 div.sk-text-repr-fallback {display: none;}</style><div id=\"sk-container-id-2\" class=\"sk-top-container\"><div class=\"sk-text-repr-fallback\"><pre>GridSearchCV(cv=10, estimator=Ridge(),\n",
       "             param_grid={&#x27;alpha&#x27;: [0.01, 0.1, 1, 10, 100]},\n",
       "             scoring=&#x27;neg_root_mean_squared_error&#x27;)</pre><b>In a Jupyter environment, please rerun this cell to show the HTML representation or trust the notebook. <br />On GitHub, the HTML representation is unable to render, please try loading this page with nbviewer.org.</b></div><div class=\"sk-container\" hidden><div class=\"sk-item sk-dashed-wrapped\"><div class=\"sk-label-container\"><div class=\"sk-label sk-toggleable\"><input class=\"sk-toggleable__control sk-hidden--visually\" id=\"sk-estimator-id-4\" type=\"checkbox\" ><label for=\"sk-estimator-id-4\" class=\"sk-toggleable__label sk-toggleable__label-arrow\">GridSearchCV</label><div class=\"sk-toggleable__content\"><pre>GridSearchCV(cv=10, estimator=Ridge(),\n",
       "             param_grid={&#x27;alpha&#x27;: [0.01, 0.1, 1, 10, 100]},\n",
       "             scoring=&#x27;neg_root_mean_squared_error&#x27;)</pre></div></div></div><div class=\"sk-parallel\"><div class=\"sk-parallel-item\"><div class=\"sk-item\"><div class=\"sk-label-container\"><div class=\"sk-label sk-toggleable\"><input class=\"sk-toggleable__control sk-hidden--visually\" id=\"sk-estimator-id-5\" type=\"checkbox\" ><label for=\"sk-estimator-id-5\" class=\"sk-toggleable__label sk-toggleable__label-arrow\">estimator: Ridge</label><div class=\"sk-toggleable__content\"><pre>Ridge()</pre></div></div></div><div class=\"sk-serial\"><div class=\"sk-item\"><div class=\"sk-estimator sk-toggleable\"><input class=\"sk-toggleable__control sk-hidden--visually\" id=\"sk-estimator-id-6\" type=\"checkbox\" ><label for=\"sk-estimator-id-6\" class=\"sk-toggleable__label sk-toggleable__label-arrow\">Ridge</label><div class=\"sk-toggleable__content\"><pre>Ridge()</pre></div></div></div></div></div></div></div></div></div></div>"
      ],
      "text/plain": [
       "GridSearchCV(cv=10, estimator=Ridge(),\n",
       "             param_grid={'alpha': [0.01, 0.1, 1, 10, 100]},\n",
       "             scoring='neg_root_mean_squared_error')"
      ]
     },
     "execution_count": 27,
     "metadata": {},
     "output_type": "execute_result"
    }
   ],
   "source": [
    "from sklearn.linear_model import Ridge\n",
    "\n",
    "alphas = [0.01, 0.1, 1, 10, 100]\n",
    "param_grid = {'alpha': alphas}\n",
    "\n",
    "ridge = Ridge() \n",
    "\n",
    "# Set up Grid Search to find best lambda value\n",
    "ridge_cv = GridSearchCV(ridge, param_grid, cv=10, scoring='neg_root_mean_squared_error')\n",
    "ridge_cv.fit(X, y)"
   ]
  },
  {
   "cell_type": "code",
   "execution_count": 28,
   "id": "9b140263",
   "metadata": {
    "execution": {
     "iopub.execute_input": "2024-07-16T06:27:12.160933Z",
     "iopub.status.busy": "2024-07-16T06:27:12.160465Z",
     "iopub.status.idle": "2024-07-16T06:27:12.167200Z",
     "shell.execute_reply": "2024-07-16T06:27:12.166309Z"
    },
    "papermill": {
     "duration": 0.027969,
     "end_time": "2024-07-16T06:27:12.169520",
     "exception": false,
     "start_time": "2024-07-16T06:27:12.141551",
     "status": "completed"
    },
    "tags": []
   },
   "outputs": [
    {
     "name": "stdout",
     "output_type": "stream",
     "text": [
      "With ridge, the rmse is 406.0511 for a lambda of 100.\n"
     ]
    }
   ],
   "source": [
    "# Get the best parameters and score\n",
    "ridge_best_lambda = ridge_cv.best_params_['alpha'] # 0.1\n",
    "rmse = -ridge_cv.best_score_  # Note the negative sign to convert back to RMSE\n",
    "\n",
    "print(f'With ridge, the rmse is {round(rmse, 4)} for a lambda of {ridge_best_lambda}.')"
   ]
  },
  {
   "cell_type": "markdown",
   "id": "508787c1",
   "metadata": {
    "papermill": {
     "duration": 0.014911,
     "end_time": "2024-07-16T06:27:12.200940",
     "exception": false,
     "start_time": "2024-07-16T06:27:12.186029",
     "status": "completed"
    },
    "tags": []
   },
   "source": [
    "I've chosen linear regression, as the two shrinkage methods didn't seem to yield much of an improvement over the former. "
   ]
  },
  {
   "cell_type": "code",
   "execution_count": 29,
   "id": "bc0c4903",
   "metadata": {
    "execution": {
     "iopub.execute_input": "2024-07-16T06:27:12.233723Z",
     "iopub.status.busy": "2024-07-16T06:27:12.233139Z",
     "iopub.status.idle": "2024-07-16T06:27:12.439270Z",
     "shell.execute_reply": "2024-07-16T06:27:12.438198Z"
    },
    "papermill": {
     "duration": 0.22617,
     "end_time": "2024-07-16T06:27:12.442712",
     "exception": false,
     "start_time": "2024-07-16T06:27:12.216542",
     "status": "completed"
    },
    "tags": []
   },
   "outputs": [
    {
     "data": {
      "text/html": [
       "<style>#sk-container-id-3 {color: black;background-color: white;}#sk-container-id-3 pre{padding: 0;}#sk-container-id-3 div.sk-toggleable {background-color: white;}#sk-container-id-3 label.sk-toggleable__label {cursor: pointer;display: block;width: 100%;margin-bottom: 0;padding: 0.3em;box-sizing: border-box;text-align: center;}#sk-container-id-3 label.sk-toggleable__label-arrow:before {content: \"▸\";float: left;margin-right: 0.25em;color: #696969;}#sk-container-id-3 label.sk-toggleable__label-arrow:hover:before {color: black;}#sk-container-id-3 div.sk-estimator:hover label.sk-toggleable__label-arrow:before {color: black;}#sk-container-id-3 div.sk-toggleable__content {max-height: 0;max-width: 0;overflow: hidden;text-align: left;background-color: #f0f8ff;}#sk-container-id-3 div.sk-toggleable__content pre {margin: 0.2em;color: black;border-radius: 0.25em;background-color: #f0f8ff;}#sk-container-id-3 input.sk-toggleable__control:checked~div.sk-toggleable__content {max-height: 200px;max-width: 100%;overflow: auto;}#sk-container-id-3 input.sk-toggleable__control:checked~label.sk-toggleable__label-arrow:before {content: \"▾\";}#sk-container-id-3 div.sk-estimator input.sk-toggleable__control:checked~label.sk-toggleable__label {background-color: #d4ebff;}#sk-container-id-3 div.sk-label input.sk-toggleable__control:checked~label.sk-toggleable__label {background-color: #d4ebff;}#sk-container-id-3 input.sk-hidden--visually {border: 0;clip: rect(1px 1px 1px 1px);clip: rect(1px, 1px, 1px, 1px);height: 1px;margin: -1px;overflow: hidden;padding: 0;position: absolute;width: 1px;}#sk-container-id-3 div.sk-estimator {font-family: monospace;background-color: #f0f8ff;border: 1px dotted black;border-radius: 0.25em;box-sizing: border-box;margin-bottom: 0.5em;}#sk-container-id-3 div.sk-estimator:hover {background-color: #d4ebff;}#sk-container-id-3 div.sk-parallel-item::after {content: \"\";width: 100%;border-bottom: 1px solid gray;flex-grow: 1;}#sk-container-id-3 div.sk-label:hover label.sk-toggleable__label {background-color: #d4ebff;}#sk-container-id-3 div.sk-serial::before {content: \"\";position: absolute;border-left: 1px solid gray;box-sizing: border-box;top: 0;bottom: 0;left: 50%;z-index: 0;}#sk-container-id-3 div.sk-serial {display: flex;flex-direction: column;align-items: center;background-color: white;padding-right: 0.2em;padding-left: 0.2em;position: relative;}#sk-container-id-3 div.sk-item {position: relative;z-index: 1;}#sk-container-id-3 div.sk-parallel {display: flex;align-items: stretch;justify-content: center;background-color: white;position: relative;}#sk-container-id-3 div.sk-item::before, #sk-container-id-3 div.sk-parallel-item::before {content: \"\";position: absolute;border-left: 1px solid gray;box-sizing: border-box;top: 0;bottom: 0;left: 50%;z-index: -1;}#sk-container-id-3 div.sk-parallel-item {display: flex;flex-direction: column;z-index: 1;position: relative;background-color: white;}#sk-container-id-3 div.sk-parallel-item:first-child::after {align-self: flex-end;width: 50%;}#sk-container-id-3 div.sk-parallel-item:last-child::after {align-self: flex-start;width: 50%;}#sk-container-id-3 div.sk-parallel-item:only-child::after {width: 0;}#sk-container-id-3 div.sk-dashed-wrapped {border: 1px dashed gray;margin: 0 0.4em 0.5em 0.4em;box-sizing: border-box;padding-bottom: 0.4em;background-color: white;}#sk-container-id-3 div.sk-label label {font-family: monospace;font-weight: bold;display: inline-block;line-height: 1.2em;}#sk-container-id-3 div.sk-label-container {text-align: center;}#sk-container-id-3 div.sk-container {/* jupyter's `normalize.less` sets `[hidden] { display: none; }` but bootstrap.min.css set `[hidden] { display: none !important; }` so we also need the `!important` here to be able to override the default hidden behavior on the sphinx rendered scikit-learn.org. See: https://github.com/scikit-learn/scikit-learn/issues/21755 */display: inline-block !important;position: relative;}#sk-container-id-3 div.sk-text-repr-fallback {display: none;}</style><div id=\"sk-container-id-3\" class=\"sk-top-container\"><div class=\"sk-text-repr-fallback\"><pre>LinearRegression()</pre><b>In a Jupyter environment, please rerun this cell to show the HTML representation or trust the notebook. <br />On GitHub, the HTML representation is unable to render, please try loading this page with nbviewer.org.</b></div><div class=\"sk-container\" hidden><div class=\"sk-item\"><div class=\"sk-estimator sk-toggleable\"><input class=\"sk-toggleable__control sk-hidden--visually\" id=\"sk-estimator-id-7\" type=\"checkbox\" checked><label for=\"sk-estimator-id-7\" class=\"sk-toggleable__label sk-toggleable__label-arrow\">LinearRegression</label><div class=\"sk-toggleable__content\"><pre>LinearRegression()</pre></div></div></div></div></div>"
      ],
      "text/plain": [
       "LinearRegression()"
      ]
     },
     "execution_count": 29,
     "metadata": {},
     "output_type": "execute_result"
    }
   ],
   "source": [
    "lr.fit(X, y)"
   ]
  },
  {
   "cell_type": "markdown",
   "id": "3cd7a522",
   "metadata": {
    "papermill": {
     "duration": 0.016437,
     "end_time": "2024-07-16T06:27:12.475358",
     "exception": false,
     "start_time": "2024-07-16T06:27:12.458921",
     "status": "completed"
    },
    "tags": []
   },
   "source": [
    "# ***RESIDUAL ANALYSIS***\n",
    "\n",
    "Another motivation behind choosing linear regression is that it lets us inspect our residuals. Let's measure the goodness-of-fit of our model. "
   ]
  },
  {
   "cell_type": "code",
   "execution_count": 30,
   "id": "0a8e0466",
   "metadata": {
    "execution": {
     "iopub.execute_input": "2024-07-16T06:27:12.509191Z",
     "iopub.status.busy": "2024-07-16T06:27:12.508836Z",
     "iopub.status.idle": "2024-07-16T06:27:12.542413Z",
     "shell.execute_reply": "2024-07-16T06:27:12.540519Z"
    },
    "papermill": {
     "duration": 0.054527,
     "end_time": "2024-07-16T06:27:12.546070",
     "exception": false,
     "start_time": "2024-07-16T06:27:12.491543",
     "status": "completed"
    },
    "tags": []
   },
   "outputs": [],
   "source": [
    "y_pred = lr.predict(X)\n",
    "\n",
    "resid = y_pred - y # A residual is simply the obs. subtracted from the fitted value"
   ]
  },
  {
   "cell_type": "code",
   "execution_count": 31,
   "id": "19b3129a",
   "metadata": {
    "_kg_hide-input": true,
    "execution": {
     "iopub.execute_input": "2024-07-16T06:27:12.578560Z",
     "iopub.status.busy": "2024-07-16T06:27:12.578122Z",
     "iopub.status.idle": "2024-07-16T06:27:13.916616Z",
     "shell.execute_reply": "2024-07-16T06:27:13.915316Z"
    },
    "papermill": {
     "duration": 1.357358,
     "end_time": "2024-07-16T06:27:13.918770",
     "exception": false,
     "start_time": "2024-07-16T06:27:12.561412",
     "status": "completed"
    },
    "tags": []
   },
   "outputs": [
    {
     "data": {
      "image/png": "[encoded data removed]",
      "text/plain": [
       "<Figure size 1000x400 with 1 Axes>"
      ]
     },
     "metadata": {},
     "output_type": "display_data"
    }
   ],
   "source": [
    "plt.figure(figsize=(10, 4))\n",
    "\n",
    "# Scatter plot of residuals vs fitted values\n",
    "sns.scatterplot(x=y_pred, y=resid)\n",
    "plt.xlabel('Fitted values')\n",
    "plt.ylabel('Residuals')\n",
    "plt.title('Residuals vs Fitted', fontweight='bold')\n",
    "\n",
    "plt.show()"
   ]
  },
  {
   "cell_type": "markdown",
   "id": "601ea358",
   "metadata": {
    "papermill": {
     "duration": 0.012525,
     "end_time": "2024-07-16T06:27:13.944135",
     "exception": false,
     "start_time": "2024-07-16T06:27:13.931610",
     "status": "completed"
    },
    "tags": []
   },
   "source": [
    "Not the prettiest sight. This tells us that there might be some **influential outliers** in the dataset that need to be extracted prior to fitting the model. Additionally, there appears to be **non-constant variance** among the residuals ($Var(\\epsilon) \\neq \\sigma^2$), violating the homoscedacity assumption of linear regression. While additional transformations can be taken to calm this plot down, this simply means that linear regression might still not be the best fit to model this data. \n",
    "# ***PREDICTIONS***\n",
    "\n",
    "For now, all we can do is be happy with what we've built and move along. Despite violating a lot of major assumptions of linear regression, you'll see that our model actually predicts dislike counts with greater accuracy than us humans, which is a great benchmark for a technique that's been around since the 19th century. "
   ]
  },
  {
   "cell_type": "code",
   "execution_count": 32,
   "id": "5445d7d3",
   "metadata": {
    "execution": {
     "iopub.execute_input": "2024-07-16T06:27:13.972719Z",
     "iopub.status.busy": "2024-07-16T06:27:13.972314Z",
     "iopub.status.idle": "2024-07-16T06:27:13.985669Z",
     "shell.execute_reply": "2024-07-16T06:27:13.984512Z"
    },
    "papermill": {
     "duration": 0.030536,
     "end_time": "2024-07-16T06:27:13.987988",
     "exception": false,
     "start_time": "2024-07-16T06:27:13.957452",
     "status": "completed"
    },
    "tags": []
   },
   "outputs": [],
   "source": [
    "from copy import deepcopy \n",
    "\n",
    "test_sub = deepcopy(test) # To ensure original copy remains unchanged\n",
    "test_sub = test_sub.drop('dislike_count', axis=1)"
   ]
  },
  {
   "cell_type": "code",
   "execution_count": 33,
   "id": "7bdb7229",
   "metadata": {
    "execution": {
     "iopub.execute_input": "2024-07-16T06:27:14.016667Z",
     "iopub.status.busy": "2024-07-16T06:27:14.016133Z",
     "iopub.status.idle": "2024-07-16T06:27:14.038788Z",
     "shell.execute_reply": "2024-07-16T06:27:14.037941Z"
    },
    "papermill": {
     "duration": 0.041641,
     "end_time": "2024-07-16T06:27:14.041408",
     "exception": false,
     "start_time": "2024-07-16T06:27:13.999767",
     "status": "completed"
    },
    "tags": []
   },
   "outputs": [],
   "source": [
    "y_pred = lr.predict(test_sub)\n",
    "test['prediction'] = y_pred "
   ]
  },
  {
   "cell_type": "code",
   "execution_count": 34,
   "id": "c402db46",
   "metadata": {
    "execution": {
     "iopub.execute_input": "2024-07-16T06:27:14.076850Z",
     "iopub.status.busy": "2024-07-16T06:27:14.075428Z",
     "iopub.status.idle": "2024-07-16T06:27:14.084120Z",
     "shell.execute_reply": "2024-07-16T06:27:14.083285Z"
    },
    "papermill": {
     "duration": 0.028555,
     "end_time": "2024-07-16T06:27:14.086185",
     "exception": false,
     "start_time": "2024-07-16T06:27:14.057630",
     "status": "completed"
    },
    "tags": []
   },
   "outputs": [],
   "source": [
    "final = test[['dislike_count', 'prediction']]"
   ]
  }
 ],
 "metadata": {
  "kaggle": {
   "accelerator": "none",
   "dataSources": [
    {
     "datasetId": 5333731,
     "sourceId": 8904062,
     "sourceType": "datasetVersion"
    }
   ],
   "dockerImageVersionId": 30732,
   "isGpuEnabled": false,
   "isInternetEnabled": true,
   "language": "python",
   "sourceType": "notebook"
  },
  "kernelspec": {
   "display_name": "Python 3",
   "language": "python",
   "name": "python3"
  },
  "language_info": {
   "codemirror_mode": {
    "name": "ipython",
    "version": 3
   },
   "file_extension": ".py",
   "mimetype": "text/x-python",
   "name": "python",
   "nbconvert_exporter": "python",
   "pygments_lexer": "ipython3",
   "version": "3.10.13"
  },
  "papermill": {
   "default_parameters": {},
   "duration": 60.778929,
   "end_time": "2024-07-16T06:27:15.028916",
   "environment_variables": {},
   "exception": null,
   "input_path": "__notebook__.ipynb",
   "output_path": "__notebook__.ipynb",
   "parameters": {},
   "start_time": "2024-07-16T06:26:14.249987",
   "version": "2.5.0"
  }
 },
 "nbformat": 4,
 "nbformat_minor": 5
}
