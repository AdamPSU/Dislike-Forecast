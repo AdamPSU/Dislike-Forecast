{
 "cells": [
  {
   "cell_type": "code",
   "execution_count": 1,
   "id": "20c9c4e8",
   "metadata": {
    "_cell_guid": "b1076dfc-b9ad-4769-8c92-a6c4dae69d19",
    "_uuid": "8f2839f25d086af736a60e9eeb907d3b93b6e0e5",
    "execution": {
     "iopub.execute_input": "2024-08-04T18:36:54.399689Z",
     "iopub.status.busy": "2024-08-04T18:36:54.399240Z",
     "iopub.status.idle": "2024-08-04T18:36:55.411143Z",
     "shell.execute_reply": "2024-08-04T18:36:55.409735Z"
    },
    "papermill": {
     "duration": 1.03376,
     "end_time": "2024-08-04T18:36:55.414081",
     "exception": false,
     "start_time": "2024-08-04T18:36:54.380321",
     "status": "completed"
    },
    "tags": []
   },
   "outputs": [
    {
     "name": "stdout",
     "output_type": "stream",
     "text": [
      "/kaggle/input/youtube-dislikes-info/train.csv\n",
      "/kaggle/input/youtube-dislikes-info/test.csv\n"
     ]
    }
   ],
   "source": [
    "import numpy as np \n",
    "import pandas as pd \n",
    "import os\n",
    "for dirname, _, filenames in os.walk('/kaggle/input'):\n",
    "    for filename in filenames:\n",
    "        print(os.path.join(dirname, filename))\n",
    "        \n",
    "import warnings\n",
    "warnings.filterwarnings('ignore')"
   ]
  },
  {
   "cell_type": "code",
   "execution_count": 2,
   "id": "2036989d",
   "metadata": {
    "_kg_hide-input": true,
    "execution": {
     "iopub.execute_input": "2024-08-04T18:36:55.449566Z",
     "iopub.status.busy": "2024-08-04T18:36:55.448956Z",
     "iopub.status.idle": "2024-08-04T18:37:07.832101Z",
     "shell.execute_reply": "2024-08-04T18:37:07.830909Z"
    },
    "papermill": {
     "duration": 12.404326,
     "end_time": "2024-08-04T18:37:07.835467",
     "exception": false,
     "start_time": "2024-08-04T18:36:55.431141",
     "status": "completed"
    },
    "tags": []
   },
   "outputs": [],
   "source": [
    "# Load the train set\n",
    "dislikes = pd.read_csv(\"/kaggle/input/youtube-dislikes-info/train.csv\")"
   ]
  },
  {
   "cell_type": "code",
   "execution_count": 3,
   "id": "c7d60c14",
   "metadata": {
    "execution": {
     "iopub.execute_input": "2024-08-04T18:37:07.870321Z",
     "iopub.status.busy": "2024-08-04T18:37:07.869915Z",
     "iopub.status.idle": "2024-08-04T18:37:13.384520Z",
     "shell.execute_reply": "2024-08-04T18:37:13.383307Z"
    },
    "papermill": {
     "duration": 5.535829,
     "end_time": "2024-08-04T18:37:13.387776",
     "exception": false,
     "start_time": "2024-08-04T18:37:07.851947",
     "status": "completed"
    },
    "tags": []
   },
   "outputs": [],
   "source": [
    "# Load the test set\n",
    "test = pd.read_csv(\"/kaggle/input/youtube-dislikes-info/test.csv\")"
   ]
  },
  {
   "cell_type": "markdown",
   "id": "c94e8701",
   "metadata": {
    "papermill": {
     "duration": 0.016022,
     "end_time": "2024-08-04T18:37:13.420338",
     "exception": false,
     "start_time": "2024-08-04T18:37:13.404316",
     "status": "completed"
    },
    "tags": []
   },
   "source": [
    "# ***INSPECT DATA***"
   ]
  },
  {
   "cell_type": "code",
   "execution_count": 4,
   "id": "ad00d739",
   "metadata": {
    "execution": {
     "iopub.execute_input": "2024-08-04T18:37:13.457346Z",
     "iopub.status.busy": "2024-08-04T18:37:13.456954Z",
     "iopub.status.idle": "2024-08-04T18:37:13.485966Z",
     "shell.execute_reply": "2024-08-04T18:37:13.484877Z"
    },
    "papermill": {
     "duration": 0.052022,
     "end_time": "2024-08-04T18:37:13.488778",
     "exception": false,
     "start_time": "2024-08-04T18:37:13.436756",
     "status": "completed"
    },
    "tags": []
   },
   "outputs": [
    {
     "data": {
      "text/html": [
       "<div>\n",
       "<style scoped>\n",
       "    .dataframe tbody tr th:only-of-type {\n",
       "        vertical-align: middle;\n",
       "    }\n",
       "\n",
       "    .dataframe tbody tr th {\n",
       "        vertical-align: top;\n",
       "    }\n",
       "\n",
       "    .dataframe thead th {\n",
       "        text-align: right;\n",
       "    }\n",
       "</style>\n",
       "<table border=\"1\" class=\"dataframe\">\n",
       "  <thead>\n",
       "    <tr style=\"text-align: right;\">\n",
       "      <th></th>\n",
       "      <th>upload_date</th>\n",
       "      <th>uploader_sub_count</th>\n",
       "      <th>view_count</th>\n",
       "      <th>like_count</th>\n",
       "      <th>dislike_count</th>\n",
       "      <th>has_subtitles</th>\n",
       "      <th>is_ads_enabled</th>\n",
       "      <th>is_comments_enabled</th>\n",
       "      <th>is_age_limit</th>\n",
       "      <th>is_live_content</th>\n",
       "      <th>description</th>\n",
       "      <th>title</th>\n",
       "    </tr>\n",
       "  </thead>\n",
       "  <tbody>\n",
       "    <tr>\n",
       "      <th>0</th>\n",
       "      <td>20160205</td>\n",
       "      <td>789</td>\n",
       "      <td>778</td>\n",
       "      <td>12</td>\n",
       "      <td>0</td>\n",
       "      <td>False</td>\n",
       "      <td>False</td>\n",
       "      <td>False</td>\n",
       "      <td>False</td>\n",
       "      <td>False</td>\n",
       "      <td>Provided to YouTube by Hungaroton\\n\\nEltávozot...</td>\n",
       "      <td>Eltávozott nap</td>\n",
       "    </tr>\n",
       "    <tr>\n",
       "      <th>1</th>\n",
       "      <td>20121001</td>\n",
       "      <td>221</td>\n",
       "      <td>32</td>\n",
       "      <td>1</td>\n",
       "      <td>0</td>\n",
       "      <td>False</td>\n",
       "      <td>False</td>\n",
       "      <td>True</td>\n",
       "      <td>False</td>\n",
       "      <td>False</td>\n",
       "      <td>y0 guys, one of my shots from my hitlists, but...</td>\n",
       "      <td>Hitlist Fail:/ #B2R</td>\n",
       "    </tr>\n",
       "    <tr>\n",
       "      <th>2</th>\n",
       "      <td>20210601</td>\n",
       "      <td>112</td>\n",
       "      <td>12</td>\n",
       "      <td>2</td>\n",
       "      <td>0</td>\n",
       "      <td>True</td>\n",
       "      <td>False</td>\n",
       "      <td>True</td>\n",
       "      <td>False</td>\n",
       "      <td>False</td>\n",
       "      <td>https://store.playstation.com/#!/tid=...</td>\n",
       "      <td>Call of Duty® warzone amp63</td>\n",
       "    </tr>\n",
       "    <tr>\n",
       "      <th>3</th>\n",
       "      <td>20210523</td>\n",
       "      <td>97</td>\n",
       "      <td>45</td>\n",
       "      <td>16</td>\n",
       "      <td>0</td>\n",
       "      <td>False</td>\n",
       "      <td>False</td>\n",
       "      <td>True</td>\n",
       "      <td>False</td>\n",
       "      <td>False</td>\n",
       "      <td>#حالات _واتساب _دينية</td>\n",
       "      <td>حالات واتساب  اجمل صوت (سلمت قلبي ❤) تصميمي.</td>\n",
       "    </tr>\n",
       "    <tr>\n",
       "      <th>4</th>\n",
       "      <td>20201124</td>\n",
       "      <td>469</td>\n",
       "      <td>16</td>\n",
       "      <td>6</td>\n",
       "      <td>0</td>\n",
       "      <td>True</td>\n",
       "      <td>False</td>\n",
       "      <td>True</td>\n",
       "      <td>False</td>\n",
       "      <td>False</td>\n",
       "      <td>Since I reviewed Fight Club earlier in 2020, I...</td>\n",
       "      <td>Fight Club (1999) Spoiler Review</td>\n",
       "    </tr>\n",
       "  </tbody>\n",
       "</table>\n",
       "</div>"
      ],
      "text/plain": [
       "  upload_date  uploader_sub_count  view_count  like_count  dislike_count  \\\n",
       "0    20160205                 789         778          12              0   \n",
       "1    20121001                 221          32           1              0   \n",
       "2    20210601                 112          12           2              0   \n",
       "3    20210523                  97          45          16              0   \n",
       "4    20201124                 469          16           6              0   \n",
       "\n",
       "   has_subtitles  is_ads_enabled  is_comments_enabled  is_age_limit  \\\n",
       "0          False           False                False         False   \n",
       "1          False           False                 True         False   \n",
       "2           True           False                 True         False   \n",
       "3          False           False                 True         False   \n",
       "4           True           False                 True         False   \n",
       "\n",
       "   is_live_content                                        description  \\\n",
       "0            False  Provided to YouTube by Hungaroton\\n\\nEltávozot...   \n",
       "1            False  y0 guys, one of my shots from my hitlists, but...   \n",
       "2            False           https://store.playstation.com/#!/tid=...   \n",
       "3            False                              #حالات _واتساب _دينية   \n",
       "4            False  Since I reviewed Fight Club earlier in 2020, I...   \n",
       "\n",
       "                                          title  \n",
       "0                                Eltávozott nap  \n",
       "1                           Hitlist Fail:/ #B2R  \n",
       "2                   Call of Duty® warzone amp63  \n",
       "3  حالات واتساب  اجمل صوت (سلمت قلبي ❤) تصميمي.  \n",
       "4              Fight Club (1999) Spoiler Review  "
      ]
     },
     "execution_count": 4,
     "metadata": {},
     "output_type": "execute_result"
    }
   ],
   "source": [
    "dislikes.head()"
   ]
  },
  {
   "cell_type": "code",
   "execution_count": 5,
   "id": "97d4615d",
   "metadata": {
    "execution": {
     "iopub.execute_input": "2024-08-04T18:37:13.524668Z",
     "iopub.status.busy": "2024-08-04T18:37:13.524247Z",
     "iopub.status.idle": "2024-08-04T18:37:13.791883Z",
     "shell.execute_reply": "2024-08-04T18:37:13.790332Z"
    },
    "papermill": {
     "duration": 0.289802,
     "end_time": "2024-08-04T18:37:13.795341",
     "exception": false,
     "start_time": "2024-08-04T18:37:13.505539",
     "status": "completed"
    },
    "tags": []
   },
   "outputs": [
    {
     "name": "stdout",
     "output_type": "stream",
     "text": [
      "<class 'pandas.core.frame.DataFrame'>\n",
      "RangeIndex: 671277 entries, 0 to 671276\n",
      "Data columns (total 12 columns):\n",
      " #   Column               Non-Null Count   Dtype \n",
      "---  ------               --------------   ----- \n",
      " 0   upload_date          671277 non-null  object\n",
      " 1   uploader_sub_count   671277 non-null  int64 \n",
      " 2   view_count           671277 non-null  int64 \n",
      " 3   like_count           671277 non-null  int64 \n",
      " 4   dislike_count        671277 non-null  int64 \n",
      " 5   has_subtitles        671277 non-null  bool  \n",
      " 6   is_ads_enabled       671277 non-null  bool  \n",
      " 7   is_comments_enabled  671277 non-null  bool  \n",
      " 8   is_age_limit         671277 non-null  bool  \n",
      " 9   is_live_content      671277 non-null  bool  \n",
      " 10  description          503648 non-null  object\n",
      " 11  title                671270 non-null  object\n",
      "dtypes: bool(5), int64(4), object(3)\n",
      "memory usage: 39.1+ MB\n"
     ]
    }
   ],
   "source": [
    "dislikes.info()"
   ]
  },
  {
   "cell_type": "markdown",
   "id": "86a459f1",
   "metadata": {
    "papermill": {
     "duration": 0.017492,
     "end_time": "2024-08-04T18:37:13.829894",
     "exception": false,
     "start_time": "2024-08-04T18:37:13.812402",
     "status": "completed"
    },
    "tags": []
   },
   "source": [
    "# ***EDA***\n",
    "\n",
    "We have two-thirds of a million YouTube videos as training data, and one-third as testing data. Excluding our **dependent** variable, we have 3 quantitative features and 8 qualitative features for a total of **11** attributes. Additionally, there are a lot of **missing values** on the description variable. If we were to perform sentiment analysis on that feature, we may need to drop a large amount of observations. \n",
    "<br><br>\n",
    "\n",
    "First, let's conduct an analysis on our quantatitative features. How do any of these features affect our response, the dislike count? "
   ]
  },
  {
   "cell_type": "code",
   "execution_count": 6,
   "id": "24c843a3",
   "metadata": {
    "_kg_hide-input": true,
    "execution": {
     "iopub.execute_input": "2024-08-04T18:37:13.866222Z",
     "iopub.status.busy": "2024-08-04T18:37:13.865790Z",
     "iopub.status.idle": "2024-08-04T18:37:20.704636Z",
     "shell.execute_reply": "2024-08-04T18:37:20.703521Z"
    },
    "papermill": {
     "duration": 6.860062,
     "end_time": "2024-08-04T18:37:20.707199",
     "exception": false,
     "start_time": "2024-08-04T18:37:13.847137",
     "status": "completed"
    },
    "tags": []
   },
   "outputs": [
    {
     "data": {
      "image/png": "[encoded data removed]",
      "text/plain": [
       "<Figure size 1600x500 with 3 Axes>"
      ]
     },
     "metadata": {},
     "output_type": "display_data"
    }
   ],
   "source": [
    "import seaborn as sns \n",
    "import matplotlib.pyplot as plt \n",
    "\n",
    "sns.set(style='dark')\n",
    "plt.figure(figsize=(16, 5))  # Adjust the figure size to fit all subplots\n",
    "\n",
    "# Subscriber counts\n",
    "plt.subplot(1, 3, 1)  \n",
    "sns.scatterplot(data=dislikes, x=\"uploader_sub_count\", y=\"dislike_count\", color='red')\n",
    "plt.gca().set_xticklabels([])\n",
    "plt.xlabel(\"Subscriber Count\", fontweight='bold')\n",
    "plt.ylabel(\"Dislike Count\", fontweight='bold')\n",
    "\n",
    "# View counts\n",
    "plt.subplot(1, 3, 2)  # 1 row, 3 columns, 2nd subplot\n",
    "sns.scatterplot(data=dislikes, x=\"view_count\", y=\"dislike_count\", color='blue')\n",
    "plt.gca().set_xticklabels([])\n",
    "plt.gca().set_yticklabels([])\n",
    "plt.xlabel(\"View Count\", fontweight='bold')\n",
    "plt.ylabel(\"\")\n",
    "\n",
    "# Like counts\n",
    "plt.subplot(1, 3, 3)  \n",
    "sns.scatterplot(data=dislikes, x=\"like_count\", y=\"dislike_count\", color='green')\n",
    "plt.gca().set_xticklabels([])\n",
    "plt.gca().set_yticklabels([])\n",
    "plt.xlabel(\"Like Count\", fontweight='bold')\n",
    "plt.ylabel(\"\")\n",
    "\n",
    "plt.tight_layout() \n",
    "# plt.suptitle(\"Quantitative Features vs. Dislike Counts\", fontsize=20, fontweight='bold')\n",
    "plt.show()"
   ]
  },
  {
   "cell_type": "markdown",
   "id": "c222cd4e",
   "metadata": {
    "papermill": {
     "duration": 0.017289,
     "end_time": "2024-08-04T18:37:20.742249",
     "exception": false,
     "start_time": "2024-08-04T18:37:20.724960",
     "status": "completed"
    },
    "tags": []
   },
   "source": [
    "View count is roughly okay; the linearity assumption has been met. However, it seems that the subscriber count and the like count may need some extra work. While there appears to be a relationship between these variables and the number of dislikes, this relationship is **not linear**, which suggests the need for **transformations**. \n",
    "\n",
    "Let's inspect this relationship further with a **heatmap**."
   ]
  },
  {
   "cell_type": "code",
   "execution_count": 7,
   "id": "dafc8937",
   "metadata": {
    "_kg_hide-input": true,
    "execution": {
     "iopub.execute_input": "2024-08-04T18:37:20.778774Z",
     "iopub.status.busy": "2024-08-04T18:37:20.778308Z",
     "iopub.status.idle": "2024-08-04T18:37:21.225071Z",
     "shell.execute_reply": "2024-08-04T18:37:21.223840Z"
    },
    "papermill": {
     "duration": 0.468074,
     "end_time": "2024-08-04T18:37:21.227709",
     "exception": false,
     "start_time": "2024-08-04T18:37:20.759635",
     "status": "completed"
    },
    "tags": []
   },
   "outputs": [
    {
     "data": {
      "image/png": "[encoded data removed]",
      "text/plain": [
       "<Figure size 640x480 with 2 Axes>"
      ]
     },
     "metadata": {},
     "output_type": "display_data"
    }
   ],
   "source": [
    "numeric = round(dislikes.select_dtypes(include='int64').corr(), 2)\n",
    "palette = sns.cubehelix_palette(start=.5, rot=-.5, as_cmap=True)\n",
    "\n",
    "# Create a heatmap showing correlations between quantitative features\n",
    "sns.heatmap(numeric, cmap=palette, annot=True, annot_kws={\"size\": 12})\n",
    "plt.show()"
   ]
  },
  {
   "cell_type": "code",
   "execution_count": 8,
   "id": "98fdfa00",
   "metadata": {
    "execution": {
     "iopub.execute_input": "2024-08-04T18:37:21.266326Z",
     "iopub.status.busy": "2024-08-04T18:37:21.265840Z",
     "iopub.status.idle": "2024-08-04T18:37:21.281197Z",
     "shell.execute_reply": "2024-08-04T18:37:21.280004Z"
    },
    "papermill": {
     "duration": 0.038214,
     "end_time": "2024-08-04T18:37:21.283764",
     "exception": false,
     "start_time": "2024-08-04T18:37:21.245550",
     "status": "completed"
    },
    "tags": []
   },
   "outputs": [
    {
     "data": {
      "text/html": [
       "<div>\n",
       "<style scoped>\n",
       "    .dataframe tbody tr th:only-of-type {\n",
       "        vertical-align: middle;\n",
       "    }\n",
       "\n",
       "    .dataframe tbody tr th {\n",
       "        vertical-align: top;\n",
       "    }\n",
       "\n",
       "    .dataframe thead th {\n",
       "        text-align: right;\n",
       "    }\n",
       "</style>\n",
       "<table border=\"1\" class=\"dataframe\">\n",
       "  <thead>\n",
       "    <tr style=\"text-align: right;\">\n",
       "      <th></th>\n",
       "      <th>uploader_sub_count</th>\n",
       "      <th>view_count</th>\n",
       "      <th>like_count</th>\n",
       "      <th>dislike_count</th>\n",
       "    </tr>\n",
       "  </thead>\n",
       "  <tbody>\n",
       "    <tr>\n",
       "      <th>uploader_sub_count</th>\n",
       "      <td>1.000000</td>\n",
       "      <td>-0.905463</td>\n",
       "      <td>-0.839371</td>\n",
       "      <td>-0.877474</td>\n",
       "    </tr>\n",
       "    <tr>\n",
       "      <th>view_count</th>\n",
       "      <td>-0.905463</td>\n",
       "      <td>1.000000</td>\n",
       "      <td>0.684587</td>\n",
       "      <td>0.714166</td>\n",
       "    </tr>\n",
       "    <tr>\n",
       "      <th>like_count</th>\n",
       "      <td>-0.839371</td>\n",
       "      <td>0.684587</td>\n",
       "      <td>1.000000</td>\n",
       "      <td>0.543808</td>\n",
       "    </tr>\n",
       "    <tr>\n",
       "      <th>dislike_count</th>\n",
       "      <td>-0.877474</td>\n",
       "      <td>0.714166</td>\n",
       "      <td>0.543808</td>\n",
       "      <td>1.000000</td>\n",
       "    </tr>\n",
       "  </tbody>\n",
       "</table>\n",
       "</div>"
      ],
      "text/plain": [
       "                    uploader_sub_count  view_count  like_count  dislike_count\n",
       "uploader_sub_count            1.000000   -0.905463   -0.839371      -0.877474\n",
       "view_count                   -0.905463    1.000000    0.684587       0.714166\n",
       "like_count                   -0.839371    0.684587    1.000000       0.543808\n",
       "dislike_count                -0.877474    0.714166    0.543808       1.000000"
      ]
     },
     "execution_count": 8,
     "metadata": {},
     "output_type": "execute_result"
    }
   ],
   "source": [
    "numeric.corr()"
   ]
  },
  {
   "cell_type": "markdown",
   "id": "ea66f158",
   "metadata": {
    "papermill": {
     "duration": 0.018163,
     "end_time": "2024-08-04T18:37:21.320404",
     "exception": false,
     "start_time": "2024-08-04T18:37:21.302241",
     "status": "completed"
    },
    "tags": []
   },
   "source": [
    "The heatmap seems to support my initial observation. Without any engineering, the uploader sub count **does not** seem to be an accurate predictor for the dislike count. However, the like count does show positive results, so I'll leave it alone. This heatmap also provides insight into the variables' relationships with one another. In particular, the **view count** and the **like count** seem closely related; we may need to watch out for **multicollinearity**."
   ]
  },
  {
   "cell_type": "markdown",
   "id": "94c53aaa",
   "metadata": {
    "papermill": {
     "duration": 0.018079,
     "end_time": "2024-08-04T18:37:21.356868",
     "exception": false,
     "start_time": "2024-08-04T18:37:21.338789",
     "status": "completed"
    },
    "tags": []
   },
   "source": [
    "# ***FEATURE ENGINEERING***\n",
    "\n",
    "At the moment, we can't really do much with the upload date feature. It is not quantitative, so we can't fit it into our model. There is a simple solution to this though—why don't we measure a video's age in days? This should give us the numerical feature we want. "
   ]
  },
  {
   "cell_type": "code",
   "execution_count": 9,
   "id": "982959b6",
   "metadata": {
    "execution": {
     "iopub.execute_input": "2024-08-04T18:37:21.395332Z",
     "iopub.status.busy": "2024-08-04T18:37:21.394935Z",
     "iopub.status.idle": "2024-08-04T18:37:21.628658Z",
     "shell.execute_reply": "2024-08-04T18:37:21.627391Z"
    },
    "papermill": {
     "duration": 0.256908,
     "end_time": "2024-08-04T18:37:21.632078",
     "exception": false,
     "start_time": "2024-08-04T18:37:21.375170",
     "status": "completed"
    },
    "tags": []
   },
   "outputs": [],
   "source": [
    "# Convert to pandas datetime to access additional attributes\n",
    "dislikes['upload_date'] = pd.to_datetime(dislikes['upload_date'], errors='coerce')\n",
    "# Obtain the number of days\n",
    "dislikes['age'] = (pd.Timestamp.today() - dislikes[\"upload_date\"]).dt.days"
   ]
  },
  {
   "cell_type": "code",
   "execution_count": 10,
   "id": "1767b427",
   "metadata": {
    "execution": {
     "iopub.execute_input": "2024-08-04T18:37:21.672354Z",
     "iopub.status.busy": "2024-08-04T18:37:21.671980Z",
     "iopub.status.idle": "2024-08-04T18:37:21.692440Z",
     "shell.execute_reply": "2024-08-04T18:37:21.691204Z"
    },
    "papermill": {
     "duration": 0.043743,
     "end_time": "2024-08-04T18:37:21.695077",
     "exception": false,
     "start_time": "2024-08-04T18:37:21.651334",
     "status": "completed"
    },
    "tags": []
   },
   "outputs": [
    {
     "data": {
      "text/html": [
       "<div>\n",
       "<style scoped>\n",
       "    .dataframe tbody tr th:only-of-type {\n",
       "        vertical-align: middle;\n",
       "    }\n",
       "\n",
       "    .dataframe tbody tr th {\n",
       "        vertical-align: top;\n",
       "    }\n",
       "\n",
       "    .dataframe thead th {\n",
       "        text-align: right;\n",
       "    }\n",
       "</style>\n",
       "<table border=\"1\" class=\"dataframe\">\n",
       "  <thead>\n",
       "    <tr style=\"text-align: right;\">\n",
       "      <th></th>\n",
       "      <th>upload_date</th>\n",
       "      <th>uploader_sub_count</th>\n",
       "      <th>view_count</th>\n",
       "      <th>like_count</th>\n",
       "      <th>dislike_count</th>\n",
       "      <th>has_subtitles</th>\n",
       "      <th>is_ads_enabled</th>\n",
       "      <th>is_comments_enabled</th>\n",
       "      <th>is_age_limit</th>\n",
       "      <th>is_live_content</th>\n",
       "      <th>description</th>\n",
       "      <th>title</th>\n",
       "      <th>age</th>\n",
       "    </tr>\n",
       "  </thead>\n",
       "  <tbody>\n",
       "    <tr>\n",
       "      <th>0</th>\n",
       "      <td>2016-02-05</td>\n",
       "      <td>789</td>\n",
       "      <td>778</td>\n",
       "      <td>12</td>\n",
       "      <td>0</td>\n",
       "      <td>False</td>\n",
       "      <td>False</td>\n",
       "      <td>False</td>\n",
       "      <td>False</td>\n",
       "      <td>False</td>\n",
       "      <td>Provided to YouTube by Hungaroton\\n\\nEltávozot...</td>\n",
       "      <td>Eltávozott nap</td>\n",
       "      <td>3103.0</td>\n",
       "    </tr>\n",
       "    <tr>\n",
       "      <th>1</th>\n",
       "      <td>2012-10-01</td>\n",
       "      <td>221</td>\n",
       "      <td>32</td>\n",
       "      <td>1</td>\n",
       "      <td>0</td>\n",
       "      <td>False</td>\n",
       "      <td>False</td>\n",
       "      <td>True</td>\n",
       "      <td>False</td>\n",
       "      <td>False</td>\n",
       "      <td>y0 guys, one of my shots from my hitlists, but...</td>\n",
       "      <td>Hitlist Fail:/ #B2R</td>\n",
       "      <td>4325.0</td>\n",
       "    </tr>\n",
       "    <tr>\n",
       "      <th>2</th>\n",
       "      <td>2021-06-01</td>\n",
       "      <td>112</td>\n",
       "      <td>12</td>\n",
       "      <td>2</td>\n",
       "      <td>0</td>\n",
       "      <td>True</td>\n",
       "      <td>False</td>\n",
       "      <td>True</td>\n",
       "      <td>False</td>\n",
       "      <td>False</td>\n",
       "      <td>https://store.playstation.com/#!/tid=...</td>\n",
       "      <td>Call of Duty® warzone amp63</td>\n",
       "      <td>1160.0</td>\n",
       "    </tr>\n",
       "    <tr>\n",
       "      <th>3</th>\n",
       "      <td>2021-05-23</td>\n",
       "      <td>97</td>\n",
       "      <td>45</td>\n",
       "      <td>16</td>\n",
       "      <td>0</td>\n",
       "      <td>False</td>\n",
       "      <td>False</td>\n",
       "      <td>True</td>\n",
       "      <td>False</td>\n",
       "      <td>False</td>\n",
       "      <td>#حالات _واتساب _دينية</td>\n",
       "      <td>حالات واتساب  اجمل صوت (سلمت قلبي ❤) تصميمي.</td>\n",
       "      <td>1169.0</td>\n",
       "    </tr>\n",
       "    <tr>\n",
       "      <th>4</th>\n",
       "      <td>2020-11-24</td>\n",
       "      <td>469</td>\n",
       "      <td>16</td>\n",
       "      <td>6</td>\n",
       "      <td>0</td>\n",
       "      <td>True</td>\n",
       "      <td>False</td>\n",
       "      <td>True</td>\n",
       "      <td>False</td>\n",
       "      <td>False</td>\n",
       "      <td>Since I reviewed Fight Club earlier in 2020, I...</td>\n",
       "      <td>Fight Club (1999) Spoiler Review</td>\n",
       "      <td>1349.0</td>\n",
       "    </tr>\n",
       "  </tbody>\n",
       "</table>\n",
       "</div>"
      ],
      "text/plain": [
       "  upload_date  uploader_sub_count  view_count  like_count  dislike_count  \\\n",
       "0  2016-02-05                 789         778          12              0   \n",
       "1  2012-10-01                 221          32           1              0   \n",
       "2  2021-06-01                 112          12           2              0   \n",
       "3  2021-05-23                  97          45          16              0   \n",
       "4  2020-11-24                 469          16           6              0   \n",
       "\n",
       "   has_subtitles  is_ads_enabled  is_comments_enabled  is_age_limit  \\\n",
       "0          False           False                False         False   \n",
       "1          False           False                 True         False   \n",
       "2           True           False                 True         False   \n",
       "3          False           False                 True         False   \n",
       "4           True           False                 True         False   \n",
       "\n",
       "   is_live_content                                        description  \\\n",
       "0            False  Provided to YouTube by Hungaroton\\n\\nEltávozot...   \n",
       "1            False  y0 guys, one of my shots from my hitlists, but...   \n",
       "2            False           https://store.playstation.com/#!/tid=...   \n",
       "3            False                              #حالات _واتساب _دينية   \n",
       "4            False  Since I reviewed Fight Club earlier in 2020, I...   \n",
       "\n",
       "                                          title     age  \n",
       "0                                Eltávozott nap  3103.0  \n",
       "1                           Hitlist Fail:/ #B2R  4325.0  \n",
       "2                   Call of Duty® warzone amp63  1160.0  \n",
       "3  حالات واتساب  اجمل صوت (سلمت قلبي ❤) تصميمي.  1169.0  \n",
       "4              Fight Club (1999) Spoiler Review  1349.0  "
      ]
     },
     "execution_count": 10,
     "metadata": {},
     "output_type": "execute_result"
    }
   ],
   "source": [
    "dislikes.head()"
   ]
  },
  {
   "cell_type": "code",
   "execution_count": 11,
   "id": "5d624de1",
   "metadata": {
    "_kg_hide-input": true,
    "execution": {
     "iopub.execute_input": "2024-08-04T18:37:21.735564Z",
     "iopub.status.busy": "2024-08-04T18:37:21.735159Z",
     "iopub.status.idle": "2024-08-04T18:37:21.855449Z",
     "shell.execute_reply": "2024-08-04T18:37:21.854273Z"
    },
    "papermill": {
     "duration": 0.144166,
     "end_time": "2024-08-04T18:37:21.858464",
     "exception": false,
     "start_time": "2024-08-04T18:37:21.714298",
     "status": "completed"
    },
    "tags": []
   },
   "outputs": [],
   "source": [
    "# Convert to pandas datetime to access additional attributes\n",
    "test['upload_date'] = pd.to_datetime(test['upload_date'], errors='coerce')\n",
    "# Obtain the number of days\n",
    "test['age'] = (pd.Timestamp.today() - test[\"upload_date\"]).dt.days"
   ]
  },
  {
   "cell_type": "markdown",
   "id": "b546cf3c",
   "metadata": {
    "papermill": {
     "duration": 0.018334,
     "end_time": "2024-08-04T18:37:21.895517",
     "exception": false,
     "start_time": "2024-08-04T18:37:21.877183",
     "status": "completed"
    },
    "tags": []
   },
   "source": [
    "Now, let's bring back the  subscriber count scatterplot. As mentioned before, it can be shown that there exists a nonlinear relationship between the two variables. This suggests the need for transformations."
   ]
  },
  {
   "cell_type": "code",
   "execution_count": 12,
   "id": "23628272",
   "metadata": {
    "_kg_hide-input": true,
    "execution": {
     "iopub.execute_input": "2024-08-04T18:37:21.934412Z",
     "iopub.status.busy": "2024-08-04T18:37:21.934022Z",
     "iopub.status.idle": "2024-08-04T18:37:23.682549Z",
     "shell.execute_reply": "2024-08-04T18:37:23.681446Z"
    },
    "papermill": {
     "duration": 1.771522,
     "end_time": "2024-08-04T18:37:23.685572",
     "exception": false,
     "start_time": "2024-08-04T18:37:21.914050",
     "status": "completed"
    },
    "tags": []
   },
   "outputs": [
    {
     "data": {
      "image/png": "[encoded data removed]",
      "text/plain": [
       "<Figure size 400x300 with 1 Axes>"
      ]
     },
     "metadata": {},
     "output_type": "display_data"
    }
   ],
   "source": [
    "# Subscriber counts\n",
    "plt.figure(figsize=(4, 3))\n",
    "sns.scatterplot(data=dislikes, x=\"uploader_sub_count\", y=\"dislike_count\", color='red')\n",
    "plt.gca().set_xticklabels([])\n",
    "plt.xlabel(\"Subscriber Count\", fontweight='bold')\n",
    "plt.ylabel(\"Dislike Count\", fontweight='bold')\n",
    "plt.title(\"Subscribers vs. Dislike Count\", fontweight='bold')\n",
    "\n",
    "plt.show()"
   ]
  },
  {
   "cell_type": "markdown",
   "id": "873a8f35",
   "metadata": {
    "papermill": {
     "duration": 0.019502,
     "end_time": "2024-08-04T18:37:23.724900",
     "exception": false,
     "start_time": "2024-08-04T18:37:23.705398",
     "status": "completed"
    },
    "tags": []
   },
   "source": [
    "To capture this non-linear relationship, we can try a log transformation. This has the effect of linearizing the relationship to a degree, which is an important assumption for linear regression."
   ]
  },
  {
   "cell_type": "code",
   "execution_count": 13,
   "id": "de28697b",
   "metadata": {
    "execution": {
     "iopub.execute_input": "2024-08-04T18:37:23.767848Z",
     "iopub.status.busy": "2024-08-04T18:37:23.766391Z",
     "iopub.status.idle": "2024-08-04T18:37:25.342668Z",
     "shell.execute_reply": "2024-08-04T18:37:25.341166Z"
    },
    "papermill": {
     "duration": 1.600802,
     "end_time": "2024-08-04T18:37:25.345833",
     "exception": false,
     "start_time": "2024-08-04T18:37:23.745031",
     "status": "completed"
    },
    "tags": []
   },
   "outputs": [],
   "source": [
    "dislikes[dislikes['uploader_sub_count'] < 0] = 0 \n",
    "\n",
    "# Reciprocate the sub count \n",
    "dislikes['uploader_sub_count_log'] = np.log1p(dislikes['uploader_sub_count'])"
   ]
  },
  {
   "cell_type": "code",
   "execution_count": 14,
   "id": "331e749d",
   "metadata": {
    "_kg_hide-input": true,
    "execution": {
     "iopub.execute_input": "2024-08-04T18:37:25.388457Z",
     "iopub.status.busy": "2024-08-04T18:37:25.387545Z",
     "iopub.status.idle": "2024-08-04T18:37:26.310281Z",
     "shell.execute_reply": "2024-08-04T18:37:26.309182Z"
    },
    "papermill": {
     "duration": 0.947595,
     "end_time": "2024-08-04T18:37:26.313463",
     "exception": false,
     "start_time": "2024-08-04T18:37:25.365868",
     "status": "completed"
    },
    "tags": []
   },
   "outputs": [],
   "source": [
    "test[test['uploader_sub_count'] < 0] = 0 \n",
    "\n",
    "# Reciprocate the sub count \n",
    "test['uploader_sub_count_log'] = np.log1p(test['uploader_sub_count'])"
   ]
  },
  {
   "cell_type": "markdown",
   "id": "ed292902",
   "metadata": {
    "papermill": {
     "duration": 0.019685,
     "end_time": "2024-08-04T18:37:26.353092",
     "exception": false,
     "start_time": "2024-08-04T18:37:26.333407",
     "status": "completed"
    },
    "tags": []
   },
   "source": [
    "Because there are a lot of missing values specifically in the description and title variables, I've decided to **exclude** them from the full model. In their place, I've chosen to simply encode them by whether or not that feature is present in a video. Who knows—it might be possible that videos without a description get more dislikes than those with one. "
   ]
  },
  {
   "cell_type": "code",
   "execution_count": 15,
   "id": "ab2a69cc",
   "metadata": {
    "execution": {
     "iopub.execute_input": "2024-08-04T18:37:26.396831Z",
     "iopub.status.busy": "2024-08-04T18:37:26.396452Z",
     "iopub.status.idle": "2024-08-04T18:37:27.388097Z",
     "shell.execute_reply": "2024-08-04T18:37:27.386860Z"
    },
    "papermill": {
     "duration": 1.016751,
     "end_time": "2024-08-04T18:37:27.390958",
     "exception": false,
     "start_time": "2024-08-04T18:37:26.374207",
     "status": "completed"
    },
    "tags": []
   },
   "outputs": [],
   "source": [
    "dislikes['has_description'] = dislikes['description'].apply(lambda x: 0 if pd.isnull(x) else 1)"
   ]
  },
  {
   "cell_type": "code",
   "execution_count": 16,
   "id": "2963c967",
   "metadata": {
    "execution": {
     "iopub.execute_input": "2024-08-04T18:37:27.495277Z",
     "iopub.status.busy": "2024-08-04T18:37:27.494906Z",
     "iopub.status.idle": "2024-08-04T18:37:27.516832Z",
     "shell.execute_reply": "2024-08-04T18:37:27.515465Z"
    },
    "papermill": {
     "duration": 0.045439,
     "end_time": "2024-08-04T18:37:27.519590",
     "exception": false,
     "start_time": "2024-08-04T18:37:27.474151",
     "status": "completed"
    },
    "tags": []
   },
   "outputs": [
    {
     "data": {
      "text/html": [
       "<div>\n",
       "<style scoped>\n",
       "    .dataframe tbody tr th:only-of-type {\n",
       "        vertical-align: middle;\n",
       "    }\n",
       "\n",
       "    .dataframe tbody tr th {\n",
       "        vertical-align: top;\n",
       "    }\n",
       "\n",
       "    .dataframe thead th {\n",
       "        text-align: right;\n",
       "    }\n",
       "</style>\n",
       "<table border=\"1\" class=\"dataframe\">\n",
       "  <thead>\n",
       "    <tr style=\"text-align: right;\">\n",
       "      <th></th>\n",
       "      <th>upload_date</th>\n",
       "      <th>uploader_sub_count</th>\n",
       "      <th>view_count</th>\n",
       "      <th>like_count</th>\n",
       "      <th>dislike_count</th>\n",
       "      <th>has_subtitles</th>\n",
       "      <th>is_ads_enabled</th>\n",
       "      <th>is_comments_enabled</th>\n",
       "      <th>is_age_limit</th>\n",
       "      <th>is_live_content</th>\n",
       "      <th>description</th>\n",
       "      <th>title</th>\n",
       "      <th>age</th>\n",
       "      <th>uploader_sub_count_log</th>\n",
       "      <th>has_description</th>\n",
       "    </tr>\n",
       "  </thead>\n",
       "  <tbody>\n",
       "    <tr>\n",
       "      <th>0</th>\n",
       "      <td>2016-02-05 00:00:00</td>\n",
       "      <td>789</td>\n",
       "      <td>778</td>\n",
       "      <td>12</td>\n",
       "      <td>0</td>\n",
       "      <td>False</td>\n",
       "      <td>False</td>\n",
       "      <td>False</td>\n",
       "      <td>False</td>\n",
       "      <td>False</td>\n",
       "      <td>Provided to YouTube by Hungaroton\\n\\nEltávozot...</td>\n",
       "      <td>Eltávozott nap</td>\n",
       "      <td>3103.0</td>\n",
       "      <td>6.672033</td>\n",
       "      <td>1</td>\n",
       "    </tr>\n",
       "    <tr>\n",
       "      <th>1</th>\n",
       "      <td>2012-10-01 00:00:00</td>\n",
       "      <td>221</td>\n",
       "      <td>32</td>\n",
       "      <td>1</td>\n",
       "      <td>0</td>\n",
       "      <td>False</td>\n",
       "      <td>False</td>\n",
       "      <td>True</td>\n",
       "      <td>False</td>\n",
       "      <td>False</td>\n",
       "      <td>y0 guys, one of my shots from my hitlists, but...</td>\n",
       "      <td>Hitlist Fail:/ #B2R</td>\n",
       "      <td>4325.0</td>\n",
       "      <td>5.402677</td>\n",
       "      <td>1</td>\n",
       "    </tr>\n",
       "    <tr>\n",
       "      <th>2</th>\n",
       "      <td>2021-06-01 00:00:00</td>\n",
       "      <td>112</td>\n",
       "      <td>12</td>\n",
       "      <td>2</td>\n",
       "      <td>0</td>\n",
       "      <td>True</td>\n",
       "      <td>False</td>\n",
       "      <td>True</td>\n",
       "      <td>False</td>\n",
       "      <td>False</td>\n",
       "      <td>https://store.playstation.com/#!/tid=...</td>\n",
       "      <td>Call of Duty® warzone amp63</td>\n",
       "      <td>1160.0</td>\n",
       "      <td>4.727388</td>\n",
       "      <td>1</td>\n",
       "    </tr>\n",
       "    <tr>\n",
       "      <th>3</th>\n",
       "      <td>2021-05-23 00:00:00</td>\n",
       "      <td>97</td>\n",
       "      <td>45</td>\n",
       "      <td>16</td>\n",
       "      <td>0</td>\n",
       "      <td>False</td>\n",
       "      <td>False</td>\n",
       "      <td>True</td>\n",
       "      <td>False</td>\n",
       "      <td>False</td>\n",
       "      <td>#حالات _واتساب _دينية</td>\n",
       "      <td>حالات واتساب  اجمل صوت (سلمت قلبي ❤) تصميمي.</td>\n",
       "      <td>1169.0</td>\n",
       "      <td>4.584967</td>\n",
       "      <td>1</td>\n",
       "    </tr>\n",
       "    <tr>\n",
       "      <th>4</th>\n",
       "      <td>2020-11-24 00:00:00</td>\n",
       "      <td>469</td>\n",
       "      <td>16</td>\n",
       "      <td>6</td>\n",
       "      <td>0</td>\n",
       "      <td>True</td>\n",
       "      <td>False</td>\n",
       "      <td>True</td>\n",
       "      <td>False</td>\n",
       "      <td>False</td>\n",
       "      <td>Since I reviewed Fight Club earlier in 2020, I...</td>\n",
       "      <td>Fight Club (1999) Spoiler Review</td>\n",
       "      <td>1349.0</td>\n",
       "      <td>6.152733</td>\n",
       "      <td>1</td>\n",
       "    </tr>\n",
       "  </tbody>\n",
       "</table>\n",
       "</div>"
      ],
      "text/plain": [
       "           upload_date  uploader_sub_count  view_count  like_count  \\\n",
       "0  2016-02-05 00:00:00                 789         778          12   \n",
       "1  2012-10-01 00:00:00                 221          32           1   \n",
       "2  2021-06-01 00:00:00                 112          12           2   \n",
       "3  2021-05-23 00:00:00                  97          45          16   \n",
       "4  2020-11-24 00:00:00                 469          16           6   \n",
       "\n",
       "   dislike_count has_subtitles is_ads_enabled is_comments_enabled  \\\n",
       "0              0         False          False               False   \n",
       "1              0         False          False                True   \n",
       "2              0          True          False                True   \n",
       "3              0         False          False                True   \n",
       "4              0          True          False                True   \n",
       "\n",
       "  is_age_limit is_live_content  \\\n",
       "0        False           False   \n",
       "1        False           False   \n",
       "2        False           False   \n",
       "3        False           False   \n",
       "4        False           False   \n",
       "\n",
       "                                         description  \\\n",
       "0  Provided to YouTube by Hungaroton\\n\\nEltávozot...   \n",
       "1  y0 guys, one of my shots from my hitlists, but...   \n",
       "2           https://store.playstation.com/#!/tid=...   \n",
       "3                              #حالات _واتساب _دينية   \n",
       "4  Since I reviewed Fight Club earlier in 2020, I...   \n",
       "\n",
       "                                          title     age  \\\n",
       "0                                Eltávozott nap  3103.0   \n",
       "1                           Hitlist Fail:/ #B2R  4325.0   \n",
       "2                   Call of Duty® warzone amp63  1160.0   \n",
       "3  حالات واتساب  اجمل صوت (سلمت قلبي ❤) تصميمي.  1169.0   \n",
       "4              Fight Club (1999) Spoiler Review  1349.0   \n",
       "\n",
       "   uploader_sub_count_log  has_description  \n",
       "0                6.672033                1  \n",
       "1                5.402677                1  \n",
       "2                4.727388                1  \n",
       "3                4.584967                1  \n",
       "4                6.152733                1  "
      ]
     },
     "execution_count": 16,
     "metadata": {},
     "output_type": "execute_result"
    }
   ],
   "source": [
    "dislikes.head()"
   ]
  },
  {
   "cell_type": "code",
   "execution_count": 17,
   "id": "49d5db32",
   "metadata": {
    "execution": {
     "iopub.execute_input": "2024-08-04T18:37:27.561088Z",
     "iopub.status.busy": "2024-08-04T18:37:27.560717Z",
     "iopub.status.idle": "2024-08-04T18:37:28.065990Z",
     "shell.execute_reply": "2024-08-04T18:37:28.064711Z"
    },
    "papermill": {
     "duration": 0.52953,
     "end_time": "2024-08-04T18:37:28.069060",
     "exception": false,
     "start_time": "2024-08-04T18:37:27.539530",
     "status": "completed"
    },
    "tags": []
   },
   "outputs": [],
   "source": [
    "test['has_description'] = test['description'].apply(lambda x: 0 if pd.isnull(x) else 1)"
   ]
  },
  {
   "cell_type": "markdown",
   "id": "f9d9b80b",
   "metadata": {
    "papermill": {
     "duration": 0.021436,
     "end_time": "2024-08-04T18:37:28.111771",
     "exception": false,
     "start_time": "2024-08-04T18:37:28.090335",
     "status": "completed"
    },
    "tags": []
   },
   "source": [
    "Now, we're ready to preprocess our data for fitting. \n",
    "\n",
    "# ***DATA PREPROCESSING***\n",
    "\n",
    "Having experimented with several features, I believe that these four are ones that truly don't have much impact on our model. They will be removed to anticipate and eliminate some of the noise present with our current feature set. "
   ]
  },
  {
   "cell_type": "code",
   "execution_count": 18,
   "id": "1c87cda3",
   "metadata": {
    "execution": {
     "iopub.execute_input": "2024-08-04T18:37:28.155809Z",
     "iopub.status.busy": "2024-08-04T18:37:28.155435Z",
     "iopub.status.idle": "2024-08-04T18:37:28.161199Z",
     "shell.execute_reply": "2024-08-04T18:37:28.159921Z"
    },
    "papermill": {
     "duration": 0.031259,
     "end_time": "2024-08-04T18:37:28.163811",
     "exception": false,
     "start_time": "2024-08-04T18:37:28.132552",
     "status": "completed"
    },
    "tags": []
   },
   "outputs": [],
   "source": [
    "features_to_drop = ['upload_date', 'title', 'description', 'uploader_sub_count']"
   ]
  },
  {
   "cell_type": "code",
   "execution_count": 19,
   "id": "41ab7897",
   "metadata": {
    "execution": {
     "iopub.execute_input": "2024-08-04T18:37:28.208019Z",
     "iopub.status.busy": "2024-08-04T18:37:28.207599Z",
     "iopub.status.idle": "2024-08-04T18:37:28.840435Z",
     "shell.execute_reply": "2024-08-04T18:37:28.838624Z"
    },
    "papermill": {
     "duration": 0.659072,
     "end_time": "2024-08-04T18:37:28.844351",
     "exception": false,
     "start_time": "2024-08-04T18:37:28.185279",
     "status": "completed"
    },
    "tags": []
   },
   "outputs": [],
   "source": [
    "dislikes = dislikes.drop(dislikes[features_to_drop], axis=1)\n",
    "dislikes = dislikes.dropna()"
   ]
  },
  {
   "cell_type": "code",
   "execution_count": 20,
   "id": "f1bd2b70",
   "metadata": {
    "_kg_hide-input": true,
    "execution": {
     "iopub.execute_input": "2024-08-04T18:37:28.899591Z",
     "iopub.status.busy": "2024-08-04T18:37:28.899129Z",
     "iopub.status.idle": "2024-08-04T18:37:29.319325Z",
     "shell.execute_reply": "2024-08-04T18:37:29.318075Z"
    },
    "papermill": {
     "duration": 0.450229,
     "end_time": "2024-08-04T18:37:29.322536",
     "exception": false,
     "start_time": "2024-08-04T18:37:28.872307",
     "status": "completed"
    },
    "tags": []
   },
   "outputs": [],
   "source": [
    "test = test.drop(test[features_to_drop], axis=1)\n",
    "test = test.dropna()"
   ]
  },
  {
   "cell_type": "markdown",
   "id": "e5efc972",
   "metadata": {
    "papermill": {
     "duration": 0.019564,
     "end_time": "2024-08-04T18:37:29.362265",
     "exception": false,
     "start_time": "2024-08-04T18:37:29.342701",
     "status": "completed"
    },
    "tags": []
   },
   "source": [
    "Now, let's one-hot encode our qualitative features prior to fitting our model. "
   ]
  },
  {
   "cell_type": "code",
   "execution_count": 21,
   "id": "0980d2a2",
   "metadata": {
    "execution": {
     "iopub.execute_input": "2024-08-04T18:37:29.403636Z",
     "iopub.status.busy": "2024-08-04T18:37:29.403235Z",
     "iopub.status.idle": "2024-08-04T18:37:29.409033Z",
     "shell.execute_reply": "2024-08-04T18:37:29.407716Z"
    },
    "papermill": {
     "duration": 0.029379,
     "end_time": "2024-08-04T18:37:29.411463",
     "exception": false,
     "start_time": "2024-08-04T18:37:29.382084",
     "status": "completed"
    },
    "tags": []
   },
   "outputs": [],
   "source": [
    "cat = ['has_subtitles', 'is_comments_enabled', 'is_ads_enabled', 'is_live_content',\n",
    "       'is_age_limit'] # Define categorical features"
   ]
  },
  {
   "cell_type": "code",
   "execution_count": 22,
   "id": "532d76e9",
   "metadata": {
    "execution": {
     "iopub.execute_input": "2024-08-04T18:37:29.453112Z",
     "iopub.status.busy": "2024-08-04T18:37:29.452654Z",
     "iopub.status.idle": "2024-08-04T18:37:30.216519Z",
     "shell.execute_reply": "2024-08-04T18:37:30.215233Z"
    },
    "papermill": {
     "duration": 0.78881,
     "end_time": "2024-08-04T18:37:30.219993",
     "exception": false,
     "start_time": "2024-08-04T18:37:29.431183",
     "status": "completed"
    },
    "tags": []
   },
   "outputs": [],
   "source": [
    "# Drop first variable as it's already explained by the absence of other variables\n",
    "dislikes = pd.get_dummies(dislikes, columns=cat, drop_first=True)"
   ]
  },
  {
   "cell_type": "code",
   "execution_count": 23,
   "id": "12b48187",
   "metadata": {
    "_kg_hide-input": true,
    "execution": {
     "iopub.execute_input": "2024-08-04T18:37:30.272286Z",
     "iopub.status.busy": "2024-08-04T18:37:30.271294Z",
     "iopub.status.idle": "2024-08-04T18:37:30.655015Z",
     "shell.execute_reply": "2024-08-04T18:37:30.653860Z"
    },
    "papermill": {
     "duration": 0.412284,
     "end_time": "2024-08-04T18:37:30.658856",
     "exception": false,
     "start_time": "2024-08-04T18:37:30.246572",
     "status": "completed"
    },
    "tags": []
   },
   "outputs": [],
   "source": [
    "# Drop first variable as it's already explained by the absence of other variables\n",
    "test = pd.get_dummies(test, columns=cat, drop_first=True)"
   ]
  },
  {
   "cell_type": "markdown",
   "id": "8c40d5b2",
   "metadata": {
    "papermill": {
     "duration": 0.020776,
     "end_time": "2024-08-04T18:37:30.703942",
     "exception": false,
     "start_time": "2024-08-04T18:37:30.683166",
     "status": "completed"
    },
    "tags": []
   },
   "source": [
    "Finally, let's split our data into explanatory variables and response. "
   ]
  },
  {
   "cell_type": "code",
   "execution_count": 24,
   "id": "baad320f",
   "metadata": {
    "execution": {
     "iopub.execute_input": "2024-08-04T18:37:30.749167Z",
     "iopub.status.busy": "2024-08-04T18:37:30.748043Z",
     "iopub.status.idle": "2024-08-04T18:37:30.775555Z",
     "shell.execute_reply": "2024-08-04T18:37:30.774234Z"
    },
    "papermill": {
     "duration": 0.054417,
     "end_time": "2024-08-04T18:37:30.779397",
     "exception": false,
     "start_time": "2024-08-04T18:37:30.724980",
     "status": "completed"
    },
    "tags": []
   },
   "outputs": [],
   "source": [
    "X = dislikes.drop(\"dislike_count\", axis=1)\n",
    "y = dislikes['dislike_count'] "
   ]
  },
  {
   "cell_type": "markdown",
   "id": "a559453c",
   "metadata": {
    "papermill": {
     "duration": 0.020615,
     "end_time": "2024-08-04T18:37:30.824455",
     "exception": false,
     "start_time": "2024-08-04T18:37:30.803840",
     "status": "completed"
    },
    "tags": []
   },
   "source": [
    "# ***CROSS VALIDATION & FITTING***\n",
    "\n",
    "As with any machine learning model, often the best solution to a surplus of options is to simply try all of them and select the best. As such, we will be trying three regressors: first, linear regression. This serves as a benchmark for the two shrinkage methods known as LASSO and Ridge, which are less flexible extensions to multiple linear regression. \n",
    "<br><br>\n",
    "To measure their efficacy, we will perform what's known as k-fold cross validation. The algorithm is simple. First, let's divide our data into $k = 10$ folds. For all $k$ iterations, $k-1$ of the \"folds\" will participate as a training set, while the remaining fold is the test set we use to compare our results. We repeat this process until all folds have been the test set exactly once, which yields $k$ scores (the root-mean-square-errors, in our case). Then, we simply take the average of these scores. This algorithm is to be performed on all of our models, which ultimately leaves us with three RMSE's. We will simply select the best bang for our buck. "
   ]
  },
  {
   "cell_type": "code",
   "execution_count": 25,
   "id": "2eecc804",
   "metadata": {
    "execution": {
     "iopub.execute_input": "2024-08-04T18:37:30.871628Z",
     "iopub.status.busy": "2024-08-04T18:37:30.870483Z",
     "iopub.status.idle": "2024-08-04T18:37:30.886840Z",
     "shell.execute_reply": "2024-08-04T18:37:30.885432Z"
    },
    "papermill": {
     "duration": 0.042632,
     "end_time": "2024-08-04T18:37:30.889992",
     "exception": false,
     "start_time": "2024-08-04T18:37:30.847360",
     "status": "completed"
    },
    "tags": []
   },
   "outputs": [
    {
     "data": {
      "text/plain": [
       "288361.4313825932"
      ]
     },
     "execution_count": 25,
     "metadata": {},
     "output_type": "execute_result"
    }
   ],
   "source": [
    "tss = (y - y.mean())**2\n",
    "mse = np.mean(tss)\n",
    "\n",
    "mse"
   ]
  },
  {
   "cell_type": "code",
   "execution_count": 26,
   "id": "68006907",
   "metadata": {
    "execution": {
     "iopub.execute_input": "2024-08-04T18:37:30.934609Z",
     "iopub.status.busy": "2024-08-04T18:37:30.934124Z",
     "iopub.status.idle": "2024-08-04T18:37:36.424618Z",
     "shell.execute_reply": "2024-08-04T18:37:36.423107Z"
    },
    "papermill": {
     "duration": 5.518437,
     "end_time": "2024-08-04T18:37:36.429823",
     "exception": false,
     "start_time": "2024-08-04T18:37:30.911386",
     "status": "completed"
    },
    "tags": []
   },
   "outputs": [],
   "source": [
    "from sklearn.linear_model import LinearRegression\n",
    "from sklearn.model_selection import cross_val_score \n",
    "\n",
    "lr = LinearRegression() \n",
    "\n",
    "# Perform k-fold cv with k = 10 folds\n",
    "linear_cv = cross_val_score(lr, X, y, cv=10, scoring='neg_root_mean_squared_error')\n",
    "rmse = -linear_cv.mean() "
   ]
  },
  {
   "cell_type": "code",
   "execution_count": 27,
   "id": "6e29ff86",
   "metadata": {
    "execution": {
     "iopub.execute_input": "2024-08-04T18:37:36.537343Z",
     "iopub.status.busy": "2024-08-04T18:37:36.536701Z",
     "iopub.status.idle": "2024-08-04T18:37:36.544391Z",
     "shell.execute_reply": "2024-08-04T18:37:36.542969Z"
    },
    "papermill": {
     "duration": 0.056371,
     "end_time": "2024-08-04T18:37:36.547133",
     "exception": false,
     "start_time": "2024-08-04T18:37:36.490762",
     "status": "completed"
    },
    "tags": []
   },
   "outputs": [
    {
     "name": "stdout",
     "output_type": "stream",
     "text": [
      "With linear regression, our rmse is 406.0512.\n"
     ]
    }
   ],
   "source": [
    "print(f'With linear regression, our rmse is {round(rmse, 4)}.')"
   ]
  },
  {
   "cell_type": "code",
   "execution_count": 28,
   "id": "ee8642e5",
   "metadata": {
    "execution": {
     "iopub.execute_input": "2024-08-04T18:37:36.591710Z",
     "iopub.status.busy": "2024-08-04T18:37:36.590192Z",
     "iopub.status.idle": "2024-08-04T18:38:10.971308Z",
     "shell.execute_reply": "2024-08-04T18:38:10.969827Z"
    },
    "papermill": {
     "duration": 34.451716,
     "end_time": "2024-08-04T18:38:11.019504",
     "exception": false,
     "start_time": "2024-08-04T18:37:36.567788",
     "status": "completed"
    },
    "tags": []
   },
   "outputs": [
    {
     "data": {
      "text/html": [
       "<style>#sk-container-id-1 {color: black;background-color: white;}#sk-container-id-1 pre{padding: 0;}#sk-container-id-1 div.sk-toggleable {background-color: white;}#sk-container-id-1 label.sk-toggleable__label {cursor: pointer;display: block;width: 100%;margin-bottom: 0;padding: 0.3em;box-sizing: border-box;text-align: center;}#sk-container-id-1 label.sk-toggleable__label-arrow:before {content: \"▸\";float: left;margin-right: 0.25em;color: #696969;}#sk-container-id-1 label.sk-toggleable__label-arrow:hover:before {color: black;}#sk-container-id-1 div.sk-estimator:hover label.sk-toggleable__label-arrow:before {color: black;}#sk-container-id-1 div.sk-toggleable__content {max-height: 0;max-width: 0;overflow: hidden;text-align: left;background-color: #f0f8ff;}#sk-container-id-1 div.sk-toggleable__content pre {margin: 0.2em;color: black;border-radius: 0.25em;background-color: #f0f8ff;}#sk-container-id-1 input.sk-toggleable__control:checked~div.sk-toggleable__content {max-height: 200px;max-width: 100%;overflow: auto;}#sk-container-id-1 input.sk-toggleable__control:checked~label.sk-toggleable__label-arrow:before {content: \"▾\";}#sk-container-id-1 div.sk-estimator input.sk-toggleable__control:checked~label.sk-toggleable__label {background-color: #d4ebff;}#sk-container-id-1 div.sk-label input.sk-toggleable__control:checked~label.sk-toggleable__label {background-color: #d4ebff;}#sk-container-id-1 input.sk-hidden--visually {border: 0;clip: rect(1px 1px 1px 1px);clip: rect(1px, 1px, 1px, 1px);height: 1px;margin: -1px;overflow: hidden;padding: 0;position: absolute;width: 1px;}#sk-container-id-1 div.sk-estimator {font-family: monospace;background-color: #f0f8ff;border: 1px dotted black;border-radius: 0.25em;box-sizing: border-box;margin-bottom: 0.5em;}#sk-container-id-1 div.sk-estimator:hover {background-color: #d4ebff;}#sk-container-id-1 div.sk-parallel-item::after {content: \"\";width: 100%;border-bottom: 1px solid gray;flex-grow: 1;}#sk-container-id-1 div.sk-label:hover label.sk-toggleable__label {background-color: #d4ebff;}#sk-container-id-1 div.sk-serial::before {content: \"\";position: absolute;border-left: 1px solid gray;box-sizing: border-box;top: 0;bottom: 0;left: 50%;z-index: 0;}#sk-container-id-1 div.sk-serial {display: flex;flex-direction: column;align-items: center;background-color: white;padding-right: 0.2em;padding-left: 0.2em;position: relative;}#sk-container-id-1 div.sk-item {position: relative;z-index: 1;}#sk-container-id-1 div.sk-parallel {display: flex;align-items: stretch;justify-content: center;background-color: white;position: relative;}#sk-container-id-1 div.sk-item::before, #sk-container-id-1 div.sk-parallel-item::before {content: \"\";position: absolute;border-left: 1px solid gray;box-sizing: border-box;top: 0;bottom: 0;left: 50%;z-index: -1;}#sk-container-id-1 div.sk-parallel-item {display: flex;flex-direction: column;z-index: 1;position: relative;background-color: white;}#sk-container-id-1 div.sk-parallel-item:first-child::after {align-self: flex-end;width: 50%;}#sk-container-id-1 div.sk-parallel-item:last-child::after {align-self: flex-start;width: 50%;}#sk-container-id-1 div.sk-parallel-item:only-child::after {width: 0;}#sk-container-id-1 div.sk-dashed-wrapped {border: 1px dashed gray;margin: 0 0.4em 0.5em 0.4em;box-sizing: border-box;padding-bottom: 0.4em;background-color: white;}#sk-container-id-1 div.sk-label label {font-family: monospace;font-weight: bold;display: inline-block;line-height: 1.2em;}#sk-container-id-1 div.sk-label-container {text-align: center;}#sk-container-id-1 div.sk-container {/* jupyter's `normalize.less` sets `[hidden] { display: none; }` but bootstrap.min.css set `[hidden] { display: none !important; }` so we also need the `!important` here to be able to override the default hidden behavior on the sphinx rendered scikit-learn.org. See: https://github.com/scikit-learn/scikit-learn/issues/21755 */display: inline-block !important;position: relative;}#sk-container-id-1 div.sk-text-repr-fallback {display: none;}</style><div id=\"sk-container-id-1\" class=\"sk-top-container\"><div class=\"sk-text-repr-fallback\"><pre>GridSearchCV(cv=10, estimator=Lasso(),\n",
       "             param_grid={&#x27;alpha&#x27;: [0.01, 0.1, 1, 10, 100]},\n",
       "             scoring=&#x27;neg_root_mean_squared_error&#x27;)</pre><b>In a Jupyter environment, please rerun this cell to show the HTML representation or trust the notebook. <br />On GitHub, the HTML representation is unable to render, please try loading this page with nbviewer.org.</b></div><div class=\"sk-container\" hidden><div class=\"sk-item sk-dashed-wrapped\"><div class=\"sk-label-container\"><div class=\"sk-label sk-toggleable\"><input class=\"sk-toggleable__control sk-hidden--visually\" id=\"sk-estimator-id-1\" type=\"checkbox\" ><label for=\"sk-estimator-id-1\" class=\"sk-toggleable__label sk-toggleable__label-arrow\">GridSearchCV</label><div class=\"sk-toggleable__content\"><pre>GridSearchCV(cv=10, estimator=Lasso(),\n",
       "             param_grid={&#x27;alpha&#x27;: [0.01, 0.1, 1, 10, 100]},\n",
       "             scoring=&#x27;neg_root_mean_squared_error&#x27;)</pre></div></div></div><div class=\"sk-parallel\"><div class=\"sk-parallel-item\"><div class=\"sk-item\"><div class=\"sk-label-container\"><div class=\"sk-label sk-toggleable\"><input class=\"sk-toggleable__control sk-hidden--visually\" id=\"sk-estimator-id-2\" type=\"checkbox\" ><label for=\"sk-estimator-id-2\" class=\"sk-toggleable__label sk-toggleable__label-arrow\">estimator: Lasso</label><div class=\"sk-toggleable__content\"><pre>Lasso()</pre></div></div></div><div class=\"sk-serial\"><div class=\"sk-item\"><div class=\"sk-estimator sk-toggleable\"><input class=\"sk-toggleable__control sk-hidden--visually\" id=\"sk-estimator-id-3\" type=\"checkbox\" ><label for=\"sk-estimator-id-3\" class=\"sk-toggleable__label sk-toggleable__label-arrow\">Lasso</label><div class=\"sk-toggleable__content\"><pre>Lasso()</pre></div></div></div></div></div></div></div></div></div></div>"
      ],
      "text/plain": [
       "GridSearchCV(cv=10, estimator=Lasso(),\n",
       "             param_grid={'alpha': [0.01, 0.1, 1, 10, 100]},\n",
       "             scoring='neg_root_mean_squared_error')"
      ]
     },
     "execution_count": 28,
     "metadata": {},
     "output_type": "execute_result"
    }
   ],
   "source": [
    "from sklearn.linear_model import Lasso\n",
    "from sklearn.model_selection import GridSearchCV\n",
    "\n",
    "alphas = [0.01, 0.1, 1, 10, 100]\n",
    "param_grid = {'alpha': alphas}\n",
    "\n",
    "lasso = Lasso()\n",
    "\n",
    "# Set up Grid Search to find best lambda value\n",
    "lasso_cv = GridSearchCV(lasso, param_grid, cv=10, scoring='neg_root_mean_squared_error')\n",
    "lasso_cv.fit(X, y)"
   ]
  },
  {
   "cell_type": "code",
   "execution_count": 29,
   "id": "9f4e77c4",
   "metadata": {
    "execution": {
     "iopub.execute_input": "2024-08-04T18:38:11.095525Z",
     "iopub.status.busy": "2024-08-04T18:38:11.095135Z",
     "iopub.status.idle": "2024-08-04T18:38:11.102225Z",
     "shell.execute_reply": "2024-08-04T18:38:11.100918Z"
    },
    "papermill": {
     "duration": 0.035345,
     "end_time": "2024-08-04T18:38:11.104954",
     "exception": false,
     "start_time": "2024-08-04T18:38:11.069609",
     "status": "completed"
    },
    "tags": []
   },
   "outputs": [
    {
     "name": "stdout",
     "output_type": "stream",
     "text": [
      "With LASSO, the rmse is 406.0498 for a lambda of 0.1.\n"
     ]
    }
   ],
   "source": [
    "# Get the best parameters and score\n",
    "lasso_best_lambda = lasso_cv.best_params_['alpha'] # 0.1\n",
    "rmse = -lasso_cv.best_score_  # Note the negative sign to convert back to RMSE\n",
    "\n",
    "print(f'With LASSO, the rmse is {round(rmse, 4)} for a lambda of {lasso_best_lambda}.')"
   ]
  },
  {
   "cell_type": "code",
   "execution_count": 30,
   "id": "09069d25",
   "metadata": {
    "execution": {
     "iopub.execute_input": "2024-08-04T18:38:11.150272Z",
     "iopub.status.busy": "2024-08-04T18:38:11.149858Z",
     "iopub.status.idle": "2024-08-04T18:38:21.312296Z",
     "shell.execute_reply": "2024-08-04T18:38:21.310453Z"
    },
    "papermill": {
     "duration": 10.189997,
     "end_time": "2024-08-04T18:38:21.316724",
     "exception": false,
     "start_time": "2024-08-04T18:38:11.126727",
     "status": "completed"
    },
    "tags": []
   },
   "outputs": [
    {
     "data": {
      "text/html": [
       "<style>#sk-container-id-2 {color: black;background-color: white;}#sk-container-id-2 pre{padding: 0;}#sk-container-id-2 div.sk-toggleable {background-color: white;}#sk-container-id-2 label.sk-toggleable__label {cursor: pointer;display: block;width: 100%;margin-bottom: 0;padding: 0.3em;box-sizing: border-box;text-align: center;}#sk-container-id-2 label.sk-toggleable__label-arrow:before {content: \"▸\";float: left;margin-right: 0.25em;color: #696969;}#sk-container-id-2 label.sk-toggleable__label-arrow:hover:before {color: black;}#sk-container-id-2 div.sk-estimator:hover label.sk-toggleable__label-arrow:before {color: black;}#sk-container-id-2 div.sk-toggleable__content {max-height: 0;max-width: 0;overflow: hidden;text-align: left;background-color: #f0f8ff;}#sk-container-id-2 div.sk-toggleable__content pre {margin: 0.2em;color: black;border-radius: 0.25em;background-color: #f0f8ff;}#sk-container-id-2 input.sk-toggleable__control:checked~div.sk-toggleable__content {max-height: 200px;max-width: 100%;overflow: auto;}#sk-container-id-2 input.sk-toggleable__control:checked~label.sk-toggleable__label-arrow:before {content: \"▾\";}#sk-container-id-2 div.sk-estimator input.sk-toggleable__control:checked~label.sk-toggleable__label {background-color: #d4ebff;}#sk-container-id-2 div.sk-label input.sk-toggleable__control:checked~label.sk-toggleable__label {background-color: #d4ebff;}#sk-container-id-2 input.sk-hidden--visually {border: 0;clip: rect(1px 1px 1px 1px);clip: rect(1px, 1px, 1px, 1px);height: 1px;margin: -1px;overflow: hidden;padding: 0;position: absolute;width: 1px;}#sk-container-id-2 div.sk-estimator {font-family: monospace;background-color: #f0f8ff;border: 1px dotted black;border-radius: 0.25em;box-sizing: border-box;margin-bottom: 0.5em;}#sk-container-id-2 div.sk-estimator:hover {background-color: #d4ebff;}#sk-container-id-2 div.sk-parallel-item::after {content: \"\";width: 100%;border-bottom: 1px solid gray;flex-grow: 1;}#sk-container-id-2 div.sk-label:hover label.sk-toggleable__label {background-color: #d4ebff;}#sk-container-id-2 div.sk-serial::before {content: \"\";position: absolute;border-left: 1px solid gray;box-sizing: border-box;top: 0;bottom: 0;left: 50%;z-index: 0;}#sk-container-id-2 div.sk-serial {display: flex;flex-direction: column;align-items: center;background-color: white;padding-right: 0.2em;padding-left: 0.2em;position: relative;}#sk-container-id-2 div.sk-item {position: relative;z-index: 1;}#sk-container-id-2 div.sk-parallel {display: flex;align-items: stretch;justify-content: center;background-color: white;position: relative;}#sk-container-id-2 div.sk-item::before, #sk-container-id-2 div.sk-parallel-item::before {content: \"\";position: absolute;border-left: 1px solid gray;box-sizing: border-box;top: 0;bottom: 0;left: 50%;z-index: -1;}#sk-container-id-2 div.sk-parallel-item {display: flex;flex-direction: column;z-index: 1;position: relative;background-color: white;}#sk-container-id-2 div.sk-parallel-item:first-child::after {align-self: flex-end;width: 50%;}#sk-container-id-2 div.sk-parallel-item:last-child::after {align-self: flex-start;width: 50%;}#sk-container-id-2 div.sk-parallel-item:only-child::after {width: 0;}#sk-container-id-2 div.sk-dashed-wrapped {border: 1px dashed gray;margin: 0 0.4em 0.5em 0.4em;box-sizing: border-box;padding-bottom: 0.4em;background-color: white;}#sk-container-id-2 div.sk-label label {font-family: monospace;font-weight: bold;display: inline-block;line-height: 1.2em;}#sk-container-id-2 div.sk-label-container {text-align: center;}#sk-container-id-2 div.sk-container {/* jupyter's `normalize.less` sets `[hidden] { display: none; }` but bootstrap.min.css set `[hidden] { display: none !important; }` so we also need the `!important` here to be able to override the default hidden behavior on the sphinx rendered scikit-learn.org. See: https://github.com/scikit-learn/scikit-learn/issues/21755 */display: inline-block !important;position: relative;}#sk-container-id-2 div.sk-text-repr-fallback {display: none;}</style><div id=\"sk-container-id-2\" class=\"sk-top-container\"><div class=\"sk-text-repr-fallback\"><pre>GridSearchCV(cv=10, estimator=Ridge(),\n",
       "             param_grid={&#x27;alpha&#x27;: [0.01, 0.1, 1, 10, 100]},\n",
       "             scoring=&#x27;neg_root_mean_squared_error&#x27;)</pre><b>In a Jupyter environment, please rerun this cell to show the HTML representation or trust the notebook. <br />On GitHub, the HTML representation is unable to render, please try loading this page with nbviewer.org.</b></div><div class=\"sk-container\" hidden><div class=\"sk-item sk-dashed-wrapped\"><div class=\"sk-label-container\"><div class=\"sk-label sk-toggleable\"><input class=\"sk-toggleable__control sk-hidden--visually\" id=\"sk-estimator-id-4\" type=\"checkbox\" ><label for=\"sk-estimator-id-4\" class=\"sk-toggleable__label sk-toggleable__label-arrow\">GridSearchCV</label><div class=\"sk-toggleable__content\"><pre>GridSearchCV(cv=10, estimator=Ridge(),\n",
       "             param_grid={&#x27;alpha&#x27;: [0.01, 0.1, 1, 10, 100]},\n",
       "             scoring=&#x27;neg_root_mean_squared_error&#x27;)</pre></div></div></div><div class=\"sk-parallel\"><div class=\"sk-parallel-item\"><div class=\"sk-item\"><div class=\"sk-label-container\"><div class=\"sk-label sk-toggleable\"><input class=\"sk-toggleable__control sk-hidden--visually\" id=\"sk-estimator-id-5\" type=\"checkbox\" ><label for=\"sk-estimator-id-5\" class=\"sk-toggleable__label sk-toggleable__label-arrow\">estimator: Ridge</label><div class=\"sk-toggleable__content\"><pre>Ridge()</pre></div></div></div><div class=\"sk-serial\"><div class=\"sk-item\"><div class=\"sk-estimator sk-toggleable\"><input class=\"sk-toggleable__control sk-hidden--visually\" id=\"sk-estimator-id-6\" type=\"checkbox\" ><label for=\"sk-estimator-id-6\" class=\"sk-toggleable__label sk-toggleable__label-arrow\">Ridge</label><div class=\"sk-toggleable__content\"><pre>Ridge()</pre></div></div></div></div></div></div></div></div></div></div>"
      ],
      "text/plain": [
       "GridSearchCV(cv=10, estimator=Ridge(),\n",
       "             param_grid={'alpha': [0.01, 0.1, 1, 10, 100]},\n",
       "             scoring='neg_root_mean_squared_error')"
      ]
     },
     "execution_count": 30,
     "metadata": {},
     "output_type": "execute_result"
    }
   ],
   "source": [
    "from sklearn.linear_model import Ridge\n",
    "\n",
    "alphas = [0.01, 0.1, 1, 10, 100]\n",
    "param_grid = {'alpha': alphas}\n",
    "\n",
    "ridge = Ridge() \n",
    "\n",
    "# Set up Grid Search to find best lambda value\n",
    "ridge_cv = GridSearchCV(ridge, param_grid, cv=10, scoring='neg_root_mean_squared_error')\n",
    "ridge_cv.fit(X, y)"
   ]
  },
  {
   "cell_type": "code",
   "execution_count": 31,
   "id": "8397731b",
   "metadata": {
    "execution": {
     "iopub.execute_input": "2024-08-04T18:38:21.406779Z",
     "iopub.status.busy": "2024-08-04T18:38:21.406020Z",
     "iopub.status.idle": "2024-08-04T18:38:21.415809Z",
     "shell.execute_reply": "2024-08-04T18:38:21.414350Z"
    },
    "papermill": {
     "duration": 0.059244,
     "end_time": "2024-08-04T18:38:21.420023",
     "exception": false,
     "start_time": "2024-08-04T18:38:21.360779",
     "status": "completed"
    },
    "tags": []
   },
   "outputs": [
    {
     "name": "stdout",
     "output_type": "stream",
     "text": [
      "With ridge, the rmse is 406.0511 for a lambda of 100.\n"
     ]
    }
   ],
   "source": [
    "# Get the best parameters and score\n",
    "ridge_best_lambda = ridge_cv.best_params_['alpha'] # 0.1\n",
    "rmse = -ridge_cv.best_score_  # Note the negative sign to convert back to RMSE\n",
    "\n",
    "print(f'With ridge, the rmse is {round(rmse, 4)} for a lambda of {ridge_best_lambda}.')"
   ]
  },
  {
   "cell_type": "code",
   "execution_count": 32,
   "id": "eb989df7",
   "metadata": {
    "execution": {
     "iopub.execute_input": "2024-08-04T18:38:21.464855Z",
     "iopub.status.busy": "2024-08-04T18:38:21.464452Z",
     "iopub.status.idle": "2024-08-04T19:16:05.350595Z",
     "shell.execute_reply": "2024-08-04T19:16:05.348933Z"
    },
    "papermill": {
     "duration": 2263.961009,
     "end_time": "2024-08-04T19:16:05.402488",
     "exception": false,
     "start_time": "2024-08-04T18:38:21.441479",
     "status": "completed"
    },
    "tags": []
   },
   "outputs": [
    {
     "data": {
      "text/html": [
       "<style>#sk-container-id-3 {color: black;background-color: white;}#sk-container-id-3 pre{padding: 0;}#sk-container-id-3 div.sk-toggleable {background-color: white;}#sk-container-id-3 label.sk-toggleable__label {cursor: pointer;display: block;width: 100%;margin-bottom: 0;padding: 0.3em;box-sizing: border-box;text-align: center;}#sk-container-id-3 label.sk-toggleable__label-arrow:before {content: \"▸\";float: left;margin-right: 0.25em;color: #696969;}#sk-container-id-3 label.sk-toggleable__label-arrow:hover:before {color: black;}#sk-container-id-3 div.sk-estimator:hover label.sk-toggleable__label-arrow:before {color: black;}#sk-container-id-3 div.sk-toggleable__content {max-height: 0;max-width: 0;overflow: hidden;text-align: left;background-color: #f0f8ff;}#sk-container-id-3 div.sk-toggleable__content pre {margin: 0.2em;color: black;border-radius: 0.25em;background-color: #f0f8ff;}#sk-container-id-3 input.sk-toggleable__control:checked~div.sk-toggleable__content {max-height: 200px;max-width: 100%;overflow: auto;}#sk-container-id-3 input.sk-toggleable__control:checked~label.sk-toggleable__label-arrow:before {content: \"▾\";}#sk-container-id-3 div.sk-estimator input.sk-toggleable__control:checked~label.sk-toggleable__label {background-color: #d4ebff;}#sk-container-id-3 div.sk-label input.sk-toggleable__control:checked~label.sk-toggleable__label {background-color: #d4ebff;}#sk-container-id-3 input.sk-hidden--visually {border: 0;clip: rect(1px 1px 1px 1px);clip: rect(1px, 1px, 1px, 1px);height: 1px;margin: -1px;overflow: hidden;padding: 0;position: absolute;width: 1px;}#sk-container-id-3 div.sk-estimator {font-family: monospace;background-color: #f0f8ff;border: 1px dotted black;border-radius: 0.25em;box-sizing: border-box;margin-bottom: 0.5em;}#sk-container-id-3 div.sk-estimator:hover {background-color: #d4ebff;}#sk-container-id-3 div.sk-parallel-item::after {content: \"\";width: 100%;border-bottom: 1px solid gray;flex-grow: 1;}#sk-container-id-3 div.sk-label:hover label.sk-toggleable__label {background-color: #d4ebff;}#sk-container-id-3 div.sk-serial::before {content: \"\";position: absolute;border-left: 1px solid gray;box-sizing: border-box;top: 0;bottom: 0;left: 50%;z-index: 0;}#sk-container-id-3 div.sk-serial {display: flex;flex-direction: column;align-items: center;background-color: white;padding-right: 0.2em;padding-left: 0.2em;position: relative;}#sk-container-id-3 div.sk-item {position: relative;z-index: 1;}#sk-container-id-3 div.sk-parallel {display: flex;align-items: stretch;justify-content: center;background-color: white;position: relative;}#sk-container-id-3 div.sk-item::before, #sk-container-id-3 div.sk-parallel-item::before {content: \"\";position: absolute;border-left: 1px solid gray;box-sizing: border-box;top: 0;bottom: 0;left: 50%;z-index: -1;}#sk-container-id-3 div.sk-parallel-item {display: flex;flex-direction: column;z-index: 1;position: relative;background-color: white;}#sk-container-id-3 div.sk-parallel-item:first-child::after {align-self: flex-end;width: 50%;}#sk-container-id-3 div.sk-parallel-item:last-child::after {align-self: flex-start;width: 50%;}#sk-container-id-3 div.sk-parallel-item:only-child::after {width: 0;}#sk-container-id-3 div.sk-dashed-wrapped {border: 1px dashed gray;margin: 0 0.4em 0.5em 0.4em;box-sizing: border-box;padding-bottom: 0.4em;background-color: white;}#sk-container-id-3 div.sk-label label {font-family: monospace;font-weight: bold;display: inline-block;line-height: 1.2em;}#sk-container-id-3 div.sk-label-container {text-align: center;}#sk-container-id-3 div.sk-container {/* jupyter's `normalize.less` sets `[hidden] { display: none; }` but bootstrap.min.css set `[hidden] { display: none !important; }` so we also need the `!important` here to be able to override the default hidden behavior on the sphinx rendered scikit-learn.org. See: https://github.com/scikit-learn/scikit-learn/issues/21755 */display: inline-block !important;position: relative;}#sk-container-id-3 div.sk-text-repr-fallback {display: none;}</style><div id=\"sk-container-id-3\" class=\"sk-top-container\"><div class=\"sk-text-repr-fallback\"><pre>GridSearchCV(cv=10, estimator=HuberRegressor(),\n",
       "             param_grid={&#x27;alpha&#x27;: [0.01, 0.1, 1, 10, 100],\n",
       "                         &#x27;epsilon&#x27;: [1, 1.35, 3, 5, 10, 100]},\n",
       "             scoring=&#x27;neg_root_mean_squared_error&#x27;)</pre><b>In a Jupyter environment, please rerun this cell to show the HTML representation or trust the notebook. <br />On GitHub, the HTML representation is unable to render, please try loading this page with nbviewer.org.</b></div><div class=\"sk-container\" hidden><div class=\"sk-item sk-dashed-wrapped\"><div class=\"sk-label-container\"><div class=\"sk-label sk-toggleable\"><input class=\"sk-toggleable__control sk-hidden--visually\" id=\"sk-estimator-id-7\" type=\"checkbox\" ><label for=\"sk-estimator-id-7\" class=\"sk-toggleable__label sk-toggleable__label-arrow\">GridSearchCV</label><div class=\"sk-toggleable__content\"><pre>GridSearchCV(cv=10, estimator=HuberRegressor(),\n",
       "             param_grid={&#x27;alpha&#x27;: [0.01, 0.1, 1, 10, 100],\n",
       "                         &#x27;epsilon&#x27;: [1, 1.35, 3, 5, 10, 100]},\n",
       "             scoring=&#x27;neg_root_mean_squared_error&#x27;)</pre></div></div></div><div class=\"sk-parallel\"><div class=\"sk-parallel-item\"><div class=\"sk-item\"><div class=\"sk-label-container\"><div class=\"sk-label sk-toggleable\"><input class=\"sk-toggleable__control sk-hidden--visually\" id=\"sk-estimator-id-8\" type=\"checkbox\" ><label for=\"sk-estimator-id-8\" class=\"sk-toggleable__label sk-toggleable__label-arrow\">estimator: HuberRegressor</label><div class=\"sk-toggleable__content\"><pre>HuberRegressor()</pre></div></div></div><div class=\"sk-serial\"><div class=\"sk-item\"><div class=\"sk-estimator sk-toggleable\"><input class=\"sk-toggleable__control sk-hidden--visually\" id=\"sk-estimator-id-9\" type=\"checkbox\" ><label for=\"sk-estimator-id-9\" class=\"sk-toggleable__label sk-toggleable__label-arrow\">HuberRegressor</label><div class=\"sk-toggleable__content\"><pre>HuberRegressor()</pre></div></div></div></div></div></div></div></div></div></div>"
      ],
      "text/plain": [
       "GridSearchCV(cv=10, estimator=HuberRegressor(),\n",
       "             param_grid={'alpha': [0.01, 0.1, 1, 10, 100],\n",
       "                         'epsilon': [1, 1.35, 3, 5, 10, 100]},\n",
       "             scoring='neg_root_mean_squared_error')"
      ]
     },
     "execution_count": 32,
     "metadata": {},
     "output_type": "execute_result"
    }
   ],
   "source": [
    "from sklearn.linear_model import HuberRegressor\n",
    "\n",
    "alphas = [0.01, 0.1, 1, 10, 100]\n",
    "epsilon = [1, 1.35, 3, 5, 10, 100]\n",
    "\n",
    "param_grid = {'alpha': alphas,\n",
    "              'epsilon': epsilon}\n",
    "\n",
    "huber = HuberRegressor() \n",
    "\n",
    "# Set up Grid Search to find best lambda value\n",
    "huber_cv = GridSearchCV(huber, param_grid, cv=10, scoring='neg_root_mean_squared_error')\n",
    "huber_cv.fit(X, y)"
   ]
  },
  {
   "cell_type": "code",
   "execution_count": 33,
   "id": "dd7cf3ca",
   "metadata": {
    "execution": {
     "iopub.execute_input": "2024-08-04T19:16:05.473911Z",
     "iopub.status.busy": "2024-08-04T19:16:05.473501Z",
     "iopub.status.idle": "2024-08-04T19:16:05.480010Z",
     "shell.execute_reply": "2024-08-04T19:16:05.478940Z"
    },
    "papermill": {
     "duration": 0.034997,
     "end_time": "2024-08-04T19:16:05.482735",
     "exception": false,
     "start_time": "2024-08-04T19:16:05.447738",
     "status": "completed"
    },
    "tags": []
   },
   "outputs": [
    {
     "name": "stdout",
     "output_type": "stream",
     "text": [
      "With huber, the rmse is 406.0511 for a lambda of 10 and epsilon of 1.\n"
     ]
    }
   ],
   "source": [
    "# Get the best parameters and score\n",
    "huber_best_lambda = huber_cv.best_params_['alpha']\n",
    "huber_best_epsilon = huber_cv.best_params_['epsilon']\n",
    "\n",
    "rmse = -ridge_cv.best_score_  # Note the negative sign to convert back to RMSE\n",
    "\n",
    "print(f'With huber, the rmse is {round(rmse, 4)} for a lambda of {huber_best_lambda} and epsilon of {huber_best_epsilon}.')"
   ]
  },
  {
   "cell_type": "markdown",
   "id": "c62143c2",
   "metadata": {
    "papermill": {
     "duration": 0.021347,
     "end_time": "2024-08-04T19:16:05.525795",
     "exception": false,
     "start_time": "2024-08-04T19:16:05.504448",
     "status": "completed"
    },
    "tags": []
   },
   "source": [
    "I've chosen linear regression, as the two shrinkage methods didn't seem to yield much of an improvement over the former. "
   ]
  },
  {
   "cell_type": "code",
   "execution_count": 34,
   "id": "e10eb0f3",
   "metadata": {
    "execution": {
     "iopub.execute_input": "2024-08-04T19:16:05.571033Z",
     "iopub.status.busy": "2024-08-04T19:16:05.570629Z",
     "iopub.status.idle": "2024-08-04T19:16:06.158260Z",
     "shell.execute_reply": "2024-08-04T19:16:06.156610Z"
    },
    "papermill": {
     "duration": 0.613757,
     "end_time": "2024-08-04T19:16:06.161058",
     "exception": false,
     "start_time": "2024-08-04T19:16:05.547301",
     "status": "completed"
    },
    "tags": []
   },
   "outputs": [
    {
     "data": {
      "text/html": [
       "<style>#sk-container-id-4 {color: black;background-color: white;}#sk-container-id-4 pre{padding: 0;}#sk-container-id-4 div.sk-toggleable {background-color: white;}#sk-container-id-4 label.sk-toggleable__label {cursor: pointer;display: block;width: 100%;margin-bottom: 0;padding: 0.3em;box-sizing: border-box;text-align: center;}#sk-container-id-4 label.sk-toggleable__label-arrow:before {content: \"▸\";float: left;margin-right: 0.25em;color: #696969;}#sk-container-id-4 label.sk-toggleable__label-arrow:hover:before {color: black;}#sk-container-id-4 div.sk-estimator:hover label.sk-toggleable__label-arrow:before {color: black;}#sk-container-id-4 div.sk-toggleable__content {max-height: 0;max-width: 0;overflow: hidden;text-align: left;background-color: #f0f8ff;}#sk-container-id-4 div.sk-toggleable__content pre {margin: 0.2em;color: black;border-radius: 0.25em;background-color: #f0f8ff;}#sk-container-id-4 input.sk-toggleable__control:checked~div.sk-toggleable__content {max-height: 200px;max-width: 100%;overflow: auto;}#sk-container-id-4 input.sk-toggleable__control:checked~label.sk-toggleable__label-arrow:before {content: \"▾\";}#sk-container-id-4 div.sk-estimator input.sk-toggleable__control:checked~label.sk-toggleable__label {background-color: #d4ebff;}#sk-container-id-4 div.sk-label input.sk-toggleable__control:checked~label.sk-toggleable__label {background-color: #d4ebff;}#sk-container-id-4 input.sk-hidden--visually {border: 0;clip: rect(1px 1px 1px 1px);clip: rect(1px, 1px, 1px, 1px);height: 1px;margin: -1px;overflow: hidden;padding: 0;position: absolute;width: 1px;}#sk-container-id-4 div.sk-estimator {font-family: monospace;background-color: #f0f8ff;border: 1px dotted black;border-radius: 0.25em;box-sizing: border-box;margin-bottom: 0.5em;}#sk-container-id-4 div.sk-estimator:hover {background-color: #d4ebff;}#sk-container-id-4 div.sk-parallel-item::after {content: \"\";width: 100%;border-bottom: 1px solid gray;flex-grow: 1;}#sk-container-id-4 div.sk-label:hover label.sk-toggleable__label {background-color: #d4ebff;}#sk-container-id-4 div.sk-serial::before {content: \"\";position: absolute;border-left: 1px solid gray;box-sizing: border-box;top: 0;bottom: 0;left: 50%;z-index: 0;}#sk-container-id-4 div.sk-serial {display: flex;flex-direction: column;align-items: center;background-color: white;padding-right: 0.2em;padding-left: 0.2em;position: relative;}#sk-container-id-4 div.sk-item {position: relative;z-index: 1;}#sk-container-id-4 div.sk-parallel {display: flex;align-items: stretch;justify-content: center;background-color: white;position: relative;}#sk-container-id-4 div.sk-item::before, #sk-container-id-4 div.sk-parallel-item::before {content: \"\";position: absolute;border-left: 1px solid gray;box-sizing: border-box;top: 0;bottom: 0;left: 50%;z-index: -1;}#sk-container-id-4 div.sk-parallel-item {display: flex;flex-direction: column;z-index: 1;position: relative;background-color: white;}#sk-container-id-4 div.sk-parallel-item:first-child::after {align-self: flex-end;width: 50%;}#sk-container-id-4 div.sk-parallel-item:last-child::after {align-self: flex-start;width: 50%;}#sk-container-id-4 div.sk-parallel-item:only-child::after {width: 0;}#sk-container-id-4 div.sk-dashed-wrapped {border: 1px dashed gray;margin: 0 0.4em 0.5em 0.4em;box-sizing: border-box;padding-bottom: 0.4em;background-color: white;}#sk-container-id-4 div.sk-label label {font-family: monospace;font-weight: bold;display: inline-block;line-height: 1.2em;}#sk-container-id-4 div.sk-label-container {text-align: center;}#sk-container-id-4 div.sk-container {/* jupyter's `normalize.less` sets `[hidden] { display: none; }` but bootstrap.min.css set `[hidden] { display: none !important; }` so we also need the `!important` here to be able to override the default hidden behavior on the sphinx rendered scikit-learn.org. See: https://github.com/scikit-learn/scikit-learn/issues/21755 */display: inline-block !important;position: relative;}#sk-container-id-4 div.sk-text-repr-fallback {display: none;}</style><div id=\"sk-container-id-4\" class=\"sk-top-container\"><div class=\"sk-text-repr-fallback\"><pre>LinearRegression()</pre><b>In a Jupyter environment, please rerun this cell to show the HTML representation or trust the notebook. <br />On GitHub, the HTML representation is unable to render, please try loading this page with nbviewer.org.</b></div><div class=\"sk-container\" hidden><div class=\"sk-item\"><div class=\"sk-estimator sk-toggleable\"><input class=\"sk-toggleable__control sk-hidden--visually\" id=\"sk-estimator-id-10\" type=\"checkbox\" checked><label for=\"sk-estimator-id-10\" class=\"sk-toggleable__label sk-toggleable__label-arrow\">LinearRegression</label><div class=\"sk-toggleable__content\"><pre>LinearRegression()</pre></div></div></div></div></div>"
      ],
      "text/plain": [
       "LinearRegression()"
      ]
     },
     "execution_count": 34,
     "metadata": {},
     "output_type": "execute_result"
    }
   ],
   "source": [
    "lr.fit(X, y)"
   ]
  },
  {
   "cell_type": "markdown",
   "id": "be93da2d",
   "metadata": {
    "papermill": {
     "duration": 0.022224,
     "end_time": "2024-08-04T19:16:06.206093",
     "exception": false,
     "start_time": "2024-08-04T19:16:06.183869",
     "status": "completed"
    },
    "tags": []
   },
   "source": [
    "# ***RESIDUAL ANALYSIS***\n",
    "\n",
    "Another motivation behind choosing linear regression is that it lets us inspect our residuals. Let's measure the goodness-of-fit of our model. "
   ]
  },
  {
   "cell_type": "code",
   "execution_count": 35,
   "id": "10eba66a",
   "metadata": {
    "execution": {
     "iopub.execute_input": "2024-08-04T19:16:06.253494Z",
     "iopub.status.busy": "2024-08-04T19:16:06.253045Z",
     "iopub.status.idle": "2024-08-04T19:16:06.304402Z",
     "shell.execute_reply": "2024-08-04T19:16:06.303093Z"
    },
    "papermill": {
     "duration": 0.080563,
     "end_time": "2024-08-04T19:16:06.309239",
     "exception": false,
     "start_time": "2024-08-04T19:16:06.228676",
     "status": "completed"
    },
    "tags": []
   },
   "outputs": [],
   "source": [
    "y_pred = lr.predict(X)\n",
    "\n",
    "resid = y_pred - y # A residual is simply the obs. subtracted from the fitted value"
   ]
  },
  {
   "cell_type": "code",
   "execution_count": 36,
   "id": "ab75c1fa",
   "metadata": {
    "_kg_hide-input": true,
    "execution": {
     "iopub.execute_input": "2024-08-04T19:16:06.406677Z",
     "iopub.status.busy": "2024-08-04T19:16:06.405397Z",
     "iopub.status.idle": "2024-08-04T19:16:08.287252Z",
     "shell.execute_reply": "2024-08-04T19:16:08.285916Z"
    },
    "papermill": {
     "duration": 1.934733,
     "end_time": "2024-08-04T19:16:08.290021",
     "exception": false,
     "start_time": "2024-08-04T19:16:06.355288",
     "status": "completed"
    },
    "tags": []
   },
   "outputs": [
    {
     "data": {
      "image/png": "[encoded data removed]",
      "text/plain": [
       "<Figure size 1000x400 with 1 Axes>"
      ]
     },
     "metadata": {},
     "output_type": "display_data"
    }
   ],
   "source": [
    "plt.figure(figsize=(10, 4))\n",
    "\n",
    "# Scatter plot of residuals vs fitted values\n",
    "sns.scatterplot(x=y_pred, y=resid)\n",
    "plt.xlabel('Fitted values')\n",
    "plt.ylabel('Residuals')\n",
    "plt.title('Residuals vs Fitted', fontweight='bold')\n",
    "\n",
    "plt.show()"
   ]
  },
  {
   "cell_type": "markdown",
   "id": "445008ab",
   "metadata": {
    "papermill": {
     "duration": 0.022424,
     "end_time": "2024-08-04T19:16:08.337308",
     "exception": false,
     "start_time": "2024-08-04T19:16:08.314884",
     "status": "completed"
    },
    "tags": []
   },
   "source": [
    "Not the prettiest sight. This tells us that there might be some **influential outliers** in the dataset that need to be extracted prior to fitting the model. Additionally, there appears to be **non-constant variance** among the residuals ($Var(\\epsilon) \\neq \\sigma^2$), violating the homoscedacity assumption of linear regression. While additional transformations can be taken to calm this plot down, this simply means that linear regression might still not be the best fit to model this data. \n",
    "# ***PREDICTIONS***\n",
    "\n",
    "For now, all we can do is be happy with what we've built and move along. Despite violating a lot of major assumptions of linear regression, you'll see that our model actually predicts dislike counts with greater accuracy than us humans, which is a great benchmark for a technique that's been around since the 19th century. "
   ]
  },
  {
   "cell_type": "code",
   "execution_count": 37,
   "id": "22b57d87",
   "metadata": {
    "execution": {
     "iopub.execute_input": "2024-08-04T19:16:08.385503Z",
     "iopub.status.busy": "2024-08-04T19:16:08.385049Z",
     "iopub.status.idle": "2024-08-04T19:16:08.400811Z",
     "shell.execute_reply": "2024-08-04T19:16:08.399695Z"
    },
    "papermill": {
     "duration": 0.043294,
     "end_time": "2024-08-04T19:16:08.403874",
     "exception": false,
     "start_time": "2024-08-04T19:16:08.360580",
     "status": "completed"
    },
    "tags": []
   },
   "outputs": [],
   "source": [
    "from copy import deepcopy \n",
    "\n",
    "test_sub = deepcopy(test) # To ensure original copy remains unchanged\n",
    "test_sub = test_sub.drop('dislike_count', axis=1)"
   ]
  },
  {
   "cell_type": "code",
   "execution_count": 38,
   "id": "4cdb5f87",
   "metadata": {
    "execution": {
     "iopub.execute_input": "2024-08-04T19:16:08.451866Z",
     "iopub.status.busy": "2024-08-04T19:16:08.451439Z",
     "iopub.status.idle": "2024-08-04T19:16:08.477183Z",
     "shell.execute_reply": "2024-08-04T19:16:08.475728Z"
    },
    "papermill": {
     "duration": 0.054991,
     "end_time": "2024-08-04T19:16:08.481952",
     "exception": false,
     "start_time": "2024-08-04T19:16:08.426961",
     "status": "completed"
    },
    "tags": []
   },
   "outputs": [],
   "source": [
    "y_pred = lr.predict(test_sub)\n",
    "test['prediction'] = y_pred "
   ]
  },
  {
   "cell_type": "code",
   "execution_count": 39,
   "id": "b6a6d906",
   "metadata": {
    "execution": {
     "iopub.execute_input": "2024-08-04T19:16:08.578852Z",
     "iopub.status.busy": "2024-08-04T19:16:08.576899Z",
     "iopub.status.idle": "2024-08-04T19:16:08.590212Z",
     "shell.execute_reply": "2024-08-04T19:16:08.588745Z"
    },
    "papermill": {
     "duration": 0.065633,
     "end_time": "2024-08-04T19:16:08.594047",
     "exception": false,
     "start_time": "2024-08-04T19:16:08.528414",
     "status": "completed"
    },
    "tags": []
   },
   "outputs": [],
   "source": [
    "final = test[['dislike_count', 'prediction']]"
   ]
  },
  {
   "cell_type": "code",
   "execution_count": 40,
   "id": "94defa16",
   "metadata": {
    "execution": {
     "iopub.execute_input": "2024-08-04T19:16:08.645288Z",
     "iopub.status.busy": "2024-08-04T19:16:08.644455Z",
     "iopub.status.idle": "2024-08-04T19:16:08.657346Z",
     "shell.execute_reply": "2024-08-04T19:16:08.656148Z"
    },
    "papermill": {
     "duration": 0.042662,
     "end_time": "2024-08-04T19:16:08.660219",
     "exception": false,
     "start_time": "2024-08-04T19:16:08.617557",
     "status": "completed"
    },
    "tags": []
   },
   "outputs": [],
   "source": [
    "rmse_new = np.sqrt(np.mean((final['dislike_count']-final['prediction'])**2))\n",
    "rmse_old = np.sqrt(np.mean((final['dislike_count']-final['dislike_count'].mean())**2))"
   ]
  }
 ],
 "metadata": {
  "kaggle": {
   "accelerator": "none",
   "dataSources": [
    {
     "datasetId": 5333731,
     "sourceId": 8904062,
     "sourceType": "datasetVersion"
    }
   ],
   "dockerImageVersionId": 30732,
   "isGpuEnabled": false,
   "isInternetEnabled": true,
   "language": "python",
   "sourceType": "notebook"
  },
  "kernelspec": {
   "display_name": "Python 3",
   "language": "python",
   "name": "python3"
  },
  "language_info": {
   "codemirror_mode": {
    "name": "ipython",
    "version": 3
   },
   "file_extension": ".py",
   "mimetype": "text/x-python",
   "name": "python",
   "nbconvert_exporter": "python",
   "pygments_lexer": "ipython3",
   "version": "3.10.13"
  },
  "papermill": {
   "default_parameters": {},
   "duration": 2358.622522,
   "end_time": "2024-08-04T19:16:09.916281",
   "environment_variables": {},
   "exception": null,
   "input_path": "__notebook__.ipynb",
   "output_path": "__notebook__.ipynb",
   "parameters": {},
   "start_time": "2024-08-04T18:36:51.293759",
   "version": "2.5.0"
  }
 },
 "nbformat": 4,
 "nbformat_minor": 5
}
